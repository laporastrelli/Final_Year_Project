{
 "cells": [
  {
   "cell_type": "code",
   "execution_count": 1,
   "metadata": {},
   "outputs": [],
   "source": [
    "import numpy as np\n",
    "import matplotlib.pyplot as plt\n",
    "import os\n",
    "import scipy.io\n",
    "import itertools as it\n",
    "import scipy.special as psi\n",
    "plt.style.use('classic')\n",
    "import seaborn as sns\n",
    "import pandas as pd\n",
    "import math as mt\n",
    "import time\n",
    "import sys\n",
    "\n",
    "sys.path.insert(1, '/rds/general/user/lr4617/home/4th_Year_Project/Final_Year_Project/')\n",
    "\n",
    "from scipy.io import loadmat\n",
    "from scipy import stats\n",
    "from numpy.random import seed\n",
    "from numpy.random import rand\n",
    "from scipy.integrate import quad\n",
    "from scipy.io import savemat\n",
    "from tempfile import TemporaryFile\n",
    "from scipy.io import loadmat\n",
    "from sklearn.decomposition import PCA\n",
    "from sklearn.manifold import MDS\n",
    "from sklearn.decomposition import KernelPCA\n",
    "from mpl_toolkits import mplot3d\n",
    "from mPE_fn import mPE_\n",
    "from scipy.spatial import distance\n",
    "from scipy.stats import entropy\n",
    "from mPE_ultis import integrand, ubble, array_list, permutation"
   ]
  },
  {
   "cell_type": "code",
   "execution_count": 14,
   "metadata": {},
   "outputs": [],
   "source": [
    "##################################### CHANGE TRAJECTORY NUMBER HERE #####################################\n",
    "traj_n = 8\n",
    "#########################################################################################################\n",
    "\n",
    "##################################### CHANGE TRAJECTORY MODE HERE #######################################\n",
    "mode = 'drug'\n",
    "#########################################################################################################"
   ]
  },
  {
   "cell_type": "code",
   "execution_count": 15,
   "metadata": {},
   "outputs": [],
   "source": [
    "# load entire high-dimensional trajectory\n",
    "path = '/rds/general/user/lr4617/home/4th_Year_Project/CAPTURE_rat_multidimensional/raw_data/' + str(mode) + '/traj_' + str(traj_n) + '/trajectories_na/'\n",
    "trajectories = os.listdir(path)\n",
    "f_s = 300\n",
    "# removing NaN columns\n",
    "nan_cols = []\n",
    "for i, time_bin in enumerate(trajectories):\n",
    "    if time_bin != 'behavs':\n",
    "        trajectory = loadmat(path + time_bin)\n",
    "        trajectory = trajectory['trajectory'] \n",
    "        for i in range(trajectory.shape[1]):\n",
    "            if np.isnan(trajectory[:, i]).all():\n",
    "                nan_cols.append(i)"
   ]
  },
  {
   "cell_type": "code",
   "execution_count": 16,
   "metadata": {},
   "outputs": [],
   "source": [
    "def rolling_mean(x, window, overlapping=True):\n",
    "    '''\n",
    "    input:\n",
    "        x      - input sequence\n",
    "        window - rolling window\n",
    "        \n",
    "    returns:\n",
    "        y      - moving averaged sequence\n",
    "    '''\n",
    "        \n",
    "    ## assuming that there are more observations than variables:\n",
    "    if np.max(x.shape)> x.shape[0]:\n",
    "        x=x.transpose()\n",
    "        \n",
    "    y = np.zeros((x.shape))\n",
    "    for i in range(0, x.shape[0] - window):\n",
    "        y[i, :] = np.mean(x[i:i+window, :], axis=0)\n",
    "        \n",
    "    y[x.shape[0]-window:x.shape[0]-1, :] = x[x.shape[0]-window:x.shape[0]-1, :]\n",
    "    \n",
    "    return y"
   ]
  },
  {
   "cell_type": "code",
   "execution_count": 17,
   "metadata": {},
   "outputs": [
    {
     "name": "stdout",
     "output_type": "stream",
     "text": [
      "Data points in standard trajectory:  (3348000, 60)\n"
     ]
    }
   ],
   "source": [
    "nan_cols = np.asarray(nan_cols)\n",
    "a = 0\n",
    "\n",
    "if nan_cols.size > 0:\n",
    "    if len(np.where(nan_cols==nan_cols[0])[0])*3 == len(nan_cols):\n",
    "        all_trajectories = np.zeros((trajectory.shape[0]*int(len(trajectories)), trajectory.shape[1]-len(nan_cols)))\n",
    "else:\n",
    "    all_trajectories = np.zeros((trajectory.shape[0]*int(len(trajectories)), trajectory.shape[1]))\n",
    "\n",
    "for i, time_bin in enumerate(trajectories):\n",
    "    if time_bin != 'behavs':\n",
    "        trajectory = loadmat(path + time_bin)\n",
    "        trajectory = trajectory['trajectory'] \n",
    "        if nan_cols.size > 0:\n",
    "            trajectory = np.delete(trajectory, nan_cols, 1)\n",
    "            \n",
    "        idx_2 = i*trajectory.shape[0]\n",
    "        window = f_s\n",
    "        mov_av_traj = rolling_mean(trajectory, window)\n",
    "        all_trajectories[idx_2:idx_2+trajectory.shape[0], 0:all_trajectories.shape[1]] = mov_av_traj\n",
    "        \n",
    "# convert nan to number when not it is a sparse recurrence (not an entire column)\n",
    "all_trajectories = np.nan_to_num(all_trajectories)\n",
    "path_out = '/rds/general/user/lr4617/home/4th_Year_Project/CAPTURE_rat_multidimensional/raw_data/' + str(mode) + '/traj_' + str(traj_n) + '/trajectory.npy'\n",
    "np.save(path_out, all_trajectories)\n",
    "print('Data points in standard trajectory: ', all_trajectories.shape)"
   ]
  },
  {
   "cell_type": "code",
   "execution_count": null,
   "metadata": {},
   "outputs": [],
   "source": []
  }
 ],
 "metadata": {
  "kernelspec": {
   "display_name": "Python [conda env:prj_env_conda]",
   "language": "python",
   "name": "conda-env-prj_env_conda-py"
  },
  "language_info": {
   "codemirror_mode": {
    "name": "ipython",
    "version": 3
   },
   "file_extension": ".py",
   "mimetype": "text/x-python",
   "name": "python",
   "nbconvert_exporter": "python",
   "pygments_lexer": "ipython3",
   "version": "3.7.10"
  }
 },
 "nbformat": 4,
 "nbformat_minor": 2
}
