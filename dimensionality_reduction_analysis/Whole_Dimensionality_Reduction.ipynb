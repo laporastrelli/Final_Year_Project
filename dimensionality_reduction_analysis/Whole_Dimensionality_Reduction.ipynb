{
 "cells": [
  {
   "cell_type": "markdown",
   "metadata": {},
   "source": [
    "## Imports"
   ]
  },
  {
   "cell_type": "code",
   "execution_count": 7,
   "metadata": {},
   "outputs": [],
   "source": [
    "import numpy as np\n",
    "import matplotlib.pyplot as plt\n",
    "import os\n",
    "import scipy.io\n",
    "import itertools as it\n",
    "import scipy.special as psi\n",
    "plt.style.use('classic')\n",
    "import seaborn as sns\n",
    "import pandas as pd\n",
    "import math\n",
    "import time\n",
    "import sys\n",
    "\n",
    "sys.path.insert(1, '/rds/general/user/lr4617/home/4th_Year_Project/Final_Year_Project/')\n",
    "\n",
    "\n",
    "from scipy.io import loadmat\n",
    "from scipy import stats\n",
    "from numpy.random import seed\n",
    "from numpy.random import rand\n",
    "from scipy.integrate import quad\n",
    "from scipy.io import savemat\n",
    "from tempfile import TemporaryFile\n",
    "from scipy.io import loadmat\n",
    "from sklearn.decomposition import PCA\n",
    "from sklearn.manifold import MDS\n",
    "from sklearn.decomposition import KernelPCA\n",
    "from mpl_toolkits import mplot3d\n",
    "from mPE_fn import mPE\n",
    "from scipy.spatial import distance\n",
    "from scipy.stats import entropy"
   ]
  },
  {
   "cell_type": "markdown",
   "metadata": {},
   "source": [
    "## Get sub-sampling"
   ]
  },
  {
   "cell_type": "code",
   "execution_count": 3,
   "metadata": {},
   "outputs": [
    {
     "name": "stdout",
     "output_type": "stream",
     "text": [
      "60\n"
     ]
    },
    {
     "data": {
      "image/png": "[encoded data removed]",
      "text/plain": [
       "<Figure size 640x480 with 1 Axes>"
      ]
     },
     "metadata": {},
     "output_type": "display_data"
    }
   ],
   "source": [
    "filename = '/rds/general/user/lr4617/home/4th_Year_Project/CAPTURE_rat_multidimensional/raw_data/normal/traj_1/sub_sampling_analysis/na_auto_MI_per_lag_6.npy'\n",
    "\n",
    "sub_sampling = np.load(filename)\n",
    "step = 5\n",
    "shifts = step*np.arange(sub_sampling.shape[0])\n",
    "plt.scatter(shifts, sub_sampling/np.max(sub_sampling))\n",
    "\n",
    "auto_mi = 0.6*np.max(sub_sampling)\n",
    "time_lag = np.where(np.isclose(sub_sampling, auto_mi, rtol=1e-02, atol=1e-02))\n",
    "print(shifts[time_lag[0][0]])\n",
    "\n",
    "# STORE EXPLAINED VARIANCES\n",
    "explained_var = []"
   ]
  },
  {
   "cell_type": "markdown",
   "metadata": {},
   "source": [
    "## Load Data - Create Dataset"
   ]
  },
  {
   "cell_type": "code",
   "execution_count": null,
   "metadata": {},
   "outputs": [],
   "source": [
    "# loading entire high-dimensional trajectory\n",
    "expm = 'normal'\n",
    "path = '/rds/general/user/lr4617/home/4th_Year_Project/CAPTURE_rat_multidimensional/raw_data/' + expm + '/'\n",
    "trajectories = os.listdir(path)\n",
    "\n",
    "lengths = []\n",
    "sub_sampling = 60\n",
    "n_markers = 20\n",
    "for n, traj_n in enumerate(trajectories):\n",
    "    if traj_n != \".ipynb_checkpoints\":\n",
    "        path_n = path + traj_n + '/trajectories_na/'\n",
    "        trajs = os.listdir(path_n)\n",
    "        trajectory = loadmat(path_n + trajs[0])\n",
    "        trajectory = trajectory['trajectory']\n",
    "        \n",
    "        all_trajectories = np.zeros((int(trajectory.shape[0]/sub_sampling)*len(trajs), trajectory.shape[1]))        \n",
    "        for i, time_bin in enumerate(trajs):\n",
    "            if time_bin != 'behavs':\n",
    "                trajectory = loadmat(path_n + time_bin)\n",
    "                trajectory = trajectory['trajectory'] \n",
    "                idx = np.round(np.arange(0, trajectory.shape[0], sub_sampling)).astype(int)\n",
    "                trajectory = trajectory[idx]\n",
    "                idx_2 = i*trajectory.shape[0]\n",
    "                all_trajectories[idx_2:idx_2+trajectory.shape[0], 0:trajectory.shape[1]] = trajectory\n",
    "                \n",
    "        all_trajectories = np.nan_to_num(all_trajectories)\n",
    "        lengths.append(all_trajectories.shape[0])\n",
    "\n",
    "        if n==0:\n",
    "            rats = all_trajectories\n",
    "            rats_enhanced = composite_dataset\n",
    "        if n>0:\n",
    "            rats = np.concatenate((rats, all_trajectories), axis=0)\n",
    "            rats_enhanced = np.concatenate((rats_enhanced, composite_dataset), axis=0)\n",
    "\n",
    "\n",
    "print(rats.shape)\n",
    "\n",
    "nan_cols = []\n",
    "for i in range(rats.shape[1]):\n",
    "    if np.isnan(rats[:, i]).any():\n",
    "        rats = np.nan_to_num(rats)\n",
    "        cnt = np.count_nonzero(np.isnan(rats[:, i]))\n",
    "        nan_cols.append(cnt)\n"
   ]
  },
  {
   "cell_type": "markdown",
   "metadata": {},
   "source": [
    "## Dimensionality Reduction - PCA"
   ]
  },
  {
   "cell_type": "code",
   "execution_count": null,
   "metadata": {},
   "outputs": [],
   "source": [
    "pca = PCA()\n",
    "pca.fit(rats)\n",
    "\n",
    "print('Explained variance 3 PCs:', sum(pca.explained_variance_ratio_[0:3]))\n",
    "\n",
    "explained_var_plot = [np.sum(pca.explained_variance_ratio_[0:i+1]) for i in range(len(pca.explained_variance_ratio_))]\n",
    "plt.scatter(np.arange(rats.shape[1]), explained_var_plot)\n",
    "plt.ylabel('Expalined Variance Ratio')\n",
    "plt.xlabel('Dimension')\n",
    "\n",
    "path_out = '/rds/general/user/lr4617/home/4th_Year_Project/Final_Report/dim_reduction_analysis/'\n",
    "name_out = 'eigenspectrum_' + expm\n",
    "plt.savefig(path_out +  name_out  + \".png\")\n",
    "\n",
    "plt.show()"
   ]
  },
  {
   "cell_type": "code",
   "execution_count": null,
   "metadata": {},
   "outputs": [],
   "source": [
    "# reduce data according to explained variance values using linear PCA\n",
    "pca = PCA(n_components=3)\n",
    "reduced_traj = pca.fit_transform(rats)\n",
    "name_out_2 = 'transformation_matrix_' + expm + '.npy'\n",
    "print(pca.components_) "
   ]
  },
  {
   "cell_type": "markdown",
   "metadata": {},
   "source": [
    "## Whole-PCA"
   ]
  },
  {
   "cell_type": "code",
   "execution_count": 9,
   "metadata": {},
   "outputs": [
    {
     "name": "stdout",
     "output_type": "stream",
     "text": [
      "(349200, 60)\n",
      "(748800, 60)\n",
      "(1040400, 60)\n",
      "(1314000, 60)\n",
      "(1425600, 60)\n",
      "(1537200, 60)\n",
      "(1602000, 60)\n",
      "(1713600, 60)\n",
      "(1825200, 60)\n",
      "(1936800, 60)\n",
      "(2048400, 60)\n",
      "(2160000, 60)\n"
     ]
    }
   ],
   "source": [
    "sub_sampling = 30\n",
    "modes = ['normal', 'drug']\n",
    "root_dir = '/rds/general/user/lr4617/home/4th_Year_Project/CAPTURE_rat_multidimensional/raw_data/'\n",
    "# load entire high-dimensional trajectories\n",
    "cnt = 0\n",
    "for mode in modes:\n",
    "    trajs = os.listdir(root_dir + mode + '/' )\n",
    "    for traj_n in trajs:\n",
    "        if traj_n != '.ipynb_checkpoints': \n",
    "            # loading entire high-dimensional trajectory\n",
    "            path = root_dir + mode + '/' + traj_n + '/' + 'trajectories_na/'\n",
    "            trajectories = os.listdir(path)\n",
    "            # removing NaN columns\n",
    "            nan_cols = []\n",
    "            for i, time_bin in enumerate(trajectories):\n",
    "                if time_bin != 'behavs' and time_bin != '.ipynb_checkpoints':\n",
    "                    trajectory = loadmat(path + time_bin)\n",
    "                    trajectory = trajectory['trajectory'] \n",
    "                    for i in range(trajectory.shape[1]):\n",
    "                        if np.isnan(trajectory[:, i]).all():\n",
    "                            nan_cols.append(i)\n",
    "\n",
    "            # create entire trajectory\n",
    "            nan_cols = np.asarray(nan_cols)\n",
    "            if nan_cols.size > 0:\n",
    "                if len(np.where(nan_cols==nan_cols[0])[0])*3 == len(nan_cols):\n",
    "                    all_trajectories =  np.zeros( (int((trajectory.shape[0]*len(trajectories))/sub_sampling), trajectory.shape[1]-len(nan_cols)) )\n",
    "            else:\n",
    "                all_trajectories = np.zeros( (int((trajectory.shape[0]*len(trajectories))/sub_sampling), trajectory.shape[1]) )\n",
    "\n",
    "            for i, time_bin in enumerate(trajectories):\n",
    "                if time_bin != 'behavs' and time_bin != '.ipynb_checkpoints':\n",
    "                    trajectory = loadmat(path + time_bin)\n",
    "                    trajectory = trajectory['trajectory'] \n",
    "                    idx = np.round(np.arange(0, trajectory.shape[0], sub_sampling)).astype(int)\n",
    "                    trajectory = trajectory[idx]\n",
    "                    idx_2 = i*trajectory.shape[0]\n",
    "                    all_trajectories[idx_2:idx_2+trajectory.shape[0], 0:trajectory.shape[1]] = trajectory\n",
    "                    \n",
    "            # convert nan to number when not it is a sparse recurrence (not an entire COLUMN)\n",
    "            all_trajectories = np.nan_to_num(all_trajectories)\n",
    "            # lengths.append(all_trajectories.shape[0])\n",
    "\n",
    "            # append trajectory to all trajectories\n",
    "            if cnt==0:\n",
    "                rats = all_trajectories\n",
    "            if cnt>0:\n",
    "                rats = np.concatenate((rats, all_trajectories), axis=0)\n",
    "            \n",
    "            cnt += 1\n",
    "\n",
    "            print(rats.shape)"
   ]
  },
  {
   "cell_type": "code",
   "execution_count": 10,
   "metadata": {},
   "outputs": [
    {
     "name": "stdout",
     "output_type": "stream",
     "text": [
      "Explained variance 3 PCs: 0.804878208258016\n"
     ]
    },
    {
     "data": {
      "image/png": "[encoded data removed]",
      "text/plain": [
       "<Figure size 640x480 with 1 Axes>"
      ]
     },
     "metadata": {},
     "output_type": "display_data"
    },
    {
     "name": "stdout",
     "output_type": "stream",
     "text": [
      "[[-0.15073236 -0.13155272  0.00897848 -0.15130266 -0.13726925  0.00504158\n",
      "  -0.15304035 -0.14277411  0.00907838 -0.1587713  -0.14840718 -0.00034174\n",
      "  -0.16523691 -0.15955288 -0.01509797 -0.16454263 -0.15875234 -0.02950165\n",
      "  -0.16515277 -0.16259416  0.00207623 -0.16725911 -0.16612424 -0.00611586\n",
      "  -0.16451498 -0.1595001  -0.0210345  -0.16252653 -0.15198293 -0.02862886\n",
      "  -0.16522462 -0.16015301  0.0126598  -0.16340936 -0.15335598  0.01606653\n",
      "  -0.16449741 -0.15789098  0.00961616 -0.160696   -0.14815369 -0.00289554\n",
      "  -0.16055981 -0.15089208  0.00661447 -0.15979169 -0.14585211  0.00904745\n",
      "  -0.16435864 -0.14936642 -0.02533549 -0.16840504 -0.16275469 -0.01965492\n",
      "  -0.16738447 -0.159797   -0.01910024 -0.16316143 -0.15108753 -0.02774758]\n",
      " [-0.15002755  0.15342092  0.06171457 -0.15221623  0.15433037  0.06907181\n",
      "  -0.14984049  0.14890582  0.07326348 -0.14732508  0.15746005  0.07756578\n",
      "  -0.15116442  0.15586803  0.07853295 -0.13711819  0.14682051  0.06247167\n",
      "  -0.15321994  0.150745    0.0798355  -0.14644158  0.14325249  0.07908031\n",
      "  -0.13161982  0.14075642  0.06118696 -0.1388928   0.15506032  0.06334081\n",
      "  -0.15233309  0.15312574  0.07282724 -0.14945882  0.1540018   0.06605647\n",
      "  -0.15338319  0.15562707  0.08183182 -0.1543182   0.16638554  0.07680268\n",
      "  -0.15274197  0.16387285  0.07064234 -0.15030288  0.16374681  0.06164777\n",
      "  -0.14419758  0.16155525  0.06457639 -0.13759215  0.13848855  0.06445828\n",
      "  -0.13790744  0.14082041  0.06403184 -0.1436547   0.1602192   0.06408376]\n",
      " [ 0.03621135 -0.04726855  0.18179877  0.03787963 -0.05035638  0.19777239\n",
      "   0.0356805  -0.05210309  0.19502188  0.05037309 -0.05650904  0.23442398\n",
      "   0.05389678 -0.06075301  0.23829999  0.04894841 -0.0518713   0.1917675\n",
      "   0.03981723 -0.0539333   0.23145178  0.04497535 -0.05671195  0.22462608\n",
      "   0.04594409 -0.05155226  0.18214228  0.04594929 -0.05024638  0.18981575\n",
      "   0.03834945 -0.05690001  0.21450498  0.03700728 -0.05535546  0.21101333\n",
      "   0.03641167 -0.05401034  0.2339381   0.04409339 -0.04813354  0.23696868\n",
      "   0.04758071 -0.05241861  0.22753769  0.04469053 -0.0497696   0.2166809\n",
      "   0.04768093 -0.05752564  0.20935052  0.04802984 -0.06163243  0.20614605\n",
      "   0.05102669 -0.06518586  0.20326892  0.05374755 -0.05680095  0.20105611]]\n"
     ]
    }
   ],
   "source": [
    "pca = PCA()\n",
    "pca.fit(rats)\n",
    "\n",
    "print('Explained variance 3 PCs:', sum(pca.explained_variance_ratio_[0:3]))\n",
    "\n",
    "explained_var_plot = [np.sum(pca.explained_variance_ratio_[0:i+1]) for i in range(len(pca.explained_variance_ratio_))]\n",
    "plt.scatter(np.arange(rats.shape[1]), explained_var_plot)\n",
    "plt.ylabel('Expalined Variance Ratio')\n",
    "plt.xlabel('Dimension')\n",
    "plt.show()\n",
    "\n",
    "pca = PCA(n_components=3)\n",
    "reduced_traj = pca.fit_transform(rats)\n",
    "print(pca.components_) "
   ]
  },
  {
   "cell_type": "code",
   "execution_count": 46,
   "metadata": {},
   "outputs": [],
   "source": [
    "# reduce data according to explained variance values using linear PCA\n",
    "pca = PCA(n_components=3)\n",
    "reduced_traj = pca.fit_transform(rats)\n",
    "name_out_2 = 'transformation_matrix_full' + '.npy'"
   ]
  }
 ],
 "metadata": {
  "kernelspec": {
   "display_name": "Python [conda env:prj_env_conda]",
   "language": "python",
   "name": "conda-env-prj_env_conda-py"
  },
  "language_info": {
   "codemirror_mode": {
    "name": "ipython",
    "version": 3
   },
   "file_extension": ".py",
   "mimetype": "text/x-python",
   "name": "python",
   "nbconvert_exporter": "python",
   "pygments_lexer": "ipython3",
   "version": "3.7.10"
  }
 },
 "nbformat": 4,
 "nbformat_minor": 2
}
