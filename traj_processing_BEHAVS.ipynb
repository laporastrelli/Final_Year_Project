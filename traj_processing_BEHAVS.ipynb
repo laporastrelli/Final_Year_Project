{
 "cells": [
  {
   "cell_type": "markdown",
   "metadata": {},
   "source": [
    "## Imports"
   ]
  },
  {
   "cell_type": "code",
   "execution_count": 1,
   "metadata": {},
   "outputs": [],
   "source": [
    "import numpy as np\n",
    "import matplotlib.pyplot as plt\n",
    "import os\n",
    "import scipy.io\n",
    "import itertools as it\n",
    "import scipy.special as psi\n",
    "plt.style.use('classic')\n",
    "import seaborn as sns\n",
    "import pandas as pd\n",
    "from scipy.io import loadmat\n",
    "from scipy import stats\n",
    "from numpy.random import seed\n",
    "from numpy.random import rand\n",
    "\n",
    "from scipy.integrate import quad\n",
    "from scipy.io import savemat\n",
    "from tempfile import TemporaryFile\n",
    "from scipy.io import loadmat\n",
    "from sklearn.decomposition import PCA\n",
    "from sklearn.manifold import MDS\n",
    "from sklearn.decomposition import KernelPCA\n",
    "from mpl_toolkits import mplot3d\n",
    "from mPE_fn import mPE\n",
    "from scipy.spatial import distance\n",
    "from scipy.stats import entropy"
   ]
  },
  {
   "cell_type": "markdown",
   "metadata": {},
   "source": [
    "## Load Data - MOCAP"
   ]
  },
  {
   "cell_type": "code",
   "execution_count": 3,
   "metadata": {},
   "outputs": [],
   "source": [
    "# loading entire high-dimensional trajectory\n",
    "path = '/rds/general/user/lr4617/home/4th_Year_Project/CAPTURE_rat_multidimensional/raw_data/normal/traj_1/trajectories/'\n",
    "trajectories = os.listdir(path)"
   ]
  },
  {
   "cell_type": "markdown",
   "metadata": {},
   "source": [
    "## Data Cleansing"
   ]
  },
  {
   "cell_type": "code",
   "execution_count": 4,
   "metadata": {},
   "outputs": [
    {
     "name": "stdout",
     "output_type": "stream",
     "text": [
      "(540000, 57)\n",
      "(8100000, 57)\n"
     ]
    }
   ],
   "source": [
    "# removing invalid values (e.g. NaN)\n",
    "# input data is already normalized (z-score) but needs to get rid of non-valued datapoints\n",
    "nan_cols = []\n",
    "for i, time_bin in enumerate(trajectories):\n",
    "    trajectory = loadmat(path + time_bin)\n",
    "    trajectory = trajectory['trajectory'] \n",
    "    for i in range(trajectory.shape[1]):\n",
    "        if np.isnan(trajectory[:, i]).all():\n",
    "            nan_cols.append(i)\n",
    "\n",
    "sampling_factor = 15\n",
    "nan_cols = np.asarray(nan_cols)\n",
    "if len(np.where(nan_cols==nan_cols[0])[0])*3 == len(nan_cols):\n",
    "    sampled_trajectories = np.zeros(((trajectory.shape[0]*int(len(trajectories)/sampling_factor)), trajectory.shape[1]-3))\n",
    "    all_trajectories = np.zeros((trajectory.shape[0]*int(len(trajectories)), trajectory.shape[1]-3))\n",
    "    a = 0\n",
    "    for i, time_bin in enumerate(trajectories):\n",
    "        trajectory = loadmat(path + time_bin)\n",
    "        trajectory = trajectory['trajectory'] \n",
    "        trajectory = np.delete(trajectory, nan_cols, 1)\n",
    "        idx = a*trajectory.shape[0]\n",
    "        idx_2 = i*trajectory.shape[0]\n",
    "        all_trajectories[idx_2:idx_2+trajectory.shape[0], 0:sampled_trajectories.shape[1]] = trajectory\n",
    "        if i % sampling_factor == 0 and sampled_trajectories.shape[0]-idx >= trajectory.shape[0]:\n",
    "            sampled_trajectories[idx:idx+trajectory.shape[0], 0:sampled_trajectories.shape[1]] = trajectory\n",
    "            a+=1\n",
    "        \n",
    "print(sampled_trajectories.shape)\n",
    "print(all_trajectories.shape)"
   ]
  },
  {
   "cell_type": "markdown",
   "metadata": {},
   "source": [
    "## Load Data - BEHAVIOURS"
   ]
  },
  {
   "cell_type": "code",
   "execution_count": 6,
   "metadata": {},
   "outputs": [],
   "source": [
    "# load behavioural time series and corresponding marker location time series\n",
    "idxs_behaviours = loadmat('/rds/general/user/lr4617/home/4th_Year_Project/CAPTURE_rat_multidimensional/raw_data/normal/traj_1/traj_1_idx_behaviours.mat')\n",
    "frames_6Hz = loadmat('/rds/general/user/lr4617/home/4th_Year_Project/CAPTURE_rat_multidimensional/raw_data/normal/traj_1/traj_1_norm_analysis.mat')\n",
    "idxs_behaviours = idxs_behaviours['behaviours']\n",
    "frames_6Hz = frames_6Hz['multi_D_traj_norm_6Hz']"
   ]
  },
  {
   "cell_type": "markdown",
   "metadata": {},
   "source": [
    "## Data Cleansing"
   ]
  },
  {
   "cell_type": "code",
   "execution_count": 7,
   "metadata": {},
   "outputs": [
    {
     "name": "stdout",
     "output_type": "stream",
     "text": [
      "(51569, 57)\n"
     ]
    }
   ],
   "source": [
    "# removing invalid values (e.g. NaN)\n",
    "# input data is already normalized (z-score) but needs to get rid of non-valued datapoints\n",
    "nan_cols = []\n",
    "for i in range(frames_6Hz.shape[1]):\n",
    "    if np.isnan(frames_6Hz[:, i]).all():\n",
    "        nan_cols.append(i)\n",
    "\n",
    "frames_6Hz = np.delete(frames_6Hz, nan_cols, 1)\n",
    "print(frames_6Hz.shape)"
   ]
  },
  {
   "cell_type": "markdown",
   "metadata": {},
   "source": [
    "## Dimensionality Reduction: PCA"
   ]
  },
  {
   "cell_type": "code",
   "execution_count": 8,
   "metadata": {},
   "outputs": [
    {
     "name": "stdout",
     "output_type": "stream",
     "text": [
      "0.6022192248292773\n"
     ]
    },
    {
     "data": {
      "image/png": "[encoded data removed]",
      "text/plain": [
       "<Figure size 640x480 with 1 Axes>"
      ]
     },
     "metadata": {},
     "output_type": "display_data"
    },
    {
     "ename": "NameError",
     "evalue": "name 'reduced_traj' is not defined",
     "output_type": "error",
     "traceback": [
      "\u001b[0;31m---------------------------------------------------------------------------\u001b[0m",
      "\u001b[0;31mNameError\u001b[0m                                 Traceback (most recent call last)",
      "\u001b[0;32m<ipython-input-8-39097cf5b441>\u001b[0m in \u001b[0;36m<module>\u001b[0;34m\u001b[0m\n\u001b[1;32m     14\u001b[0m \u001b[0mreduced_traj_6\u001b[0m \u001b[0;34m=\u001b[0m \u001b[0mpca\u001b[0m\u001b[0;34m.\u001b[0m\u001b[0mfit_transform\u001b[0m\u001b[0;34m(\u001b[0m\u001b[0mframes_6Hz\u001b[0m\u001b[0;34m)\u001b[0m\u001b[0;34m\u001b[0m\u001b[0;34m\u001b[0m\u001b[0m\n\u001b[1;32m     15\u001b[0m \u001b[0;34m\u001b[0m\u001b[0m\n\u001b[0;32m---> 16\u001b[0;31m \u001b[0mprint\u001b[0m\u001b[0;34m(\u001b[0m\u001b[0mnp\u001b[0m\u001b[0;34m.\u001b[0m\u001b[0mcov\u001b[0m\u001b[0;34m(\u001b[0m\u001b[0mnp\u001b[0m\u001b[0;34m.\u001b[0m\u001b[0mtranspose\u001b[0m\u001b[0;34m(\u001b[0m\u001b[0mreduced_traj\u001b[0m\u001b[0;34m)\u001b[0m\u001b[0;34m)\u001b[0m\u001b[0;34m)\u001b[0m\u001b[0;34m\u001b[0m\u001b[0;34m\u001b[0m\u001b[0m\n\u001b[0m",
      "\u001b[0;31mNameError\u001b[0m: name 'reduced_traj' is not defined"
     ]
    }
   ],
   "source": [
    "# inspecting inter-dimensional variance with PCA\n",
    "pca = PCA()\n",
    "pca.fit(all_trajectories)\n",
    "\n",
    "plt.scatter(np.arange(all_trajectories.shape[1]), pca.explained_variance_ratio_)\n",
    "print(sum(pca.explained_variance_ratio_[0:3]))\n",
    "plt.ylabel('Expalined Variance Ratio')\n",
    "plt.xlabel('Dimension')\n",
    "plt.show()\n",
    "\n",
    "# reduce data according to explained variance values using linear PCA\n",
    "pca = PCA(n_components=3)\n",
    "reduced_traj_300 = pca.fit_transform(all_trajectories)\n",
    "reduced_traj_6 = pca.fit_transform(frames_6Hz)\n",
    "\n",
    "print(np.cov(np.transpose(reduced_traj)))"
   ]
  },
  {
   "cell_type": "markdown",
   "metadata": {},
   "source": [
    "## Entropy Analysis"
   ]
  },
  {
   "cell_type": "markdown",
   "metadata": {},
   "source": [
    "### Helper functions"
   ]
  },
  {
   "cell_type": "code",
   "execution_count": null,
   "metadata": {},
   "outputs": [],
   "source": [
    "def mov_average(data, window_length, shift_length):\n",
    "    av_data = []\n",
    "    a = 0\n",
    "    for i in range(0,len(data),shift_length):\n",
    "        if i>=window_length:\n",
    "            av_data.append(np.mean(data[i-window_length:i]))\n",
    "            a = a + 1\n",
    "    return av_data"
   ]
  },
  {
   "cell_type": "code",
   "execution_count": 8,
   "metadata": {},
   "outputs": [],
   "source": [
    "def prob_vector(raw_data, max_size, min_, decimals=1):\n",
    "    rounded_data = [(round(x * 10**(decimals)))/(10**decimals) for x in raw_data]\n",
    "    sorted_data = np.sort(rounded_data)\n",
    "    sorted_data = np.array(sorted_data, dtype=np.float64)\n",
    "\n",
    "    already_seen = []\n",
    "    prob_vector = np.zeros((max_size+1))\n",
    "    occurrences = 0\n",
    "    idx = 0\n",
    "    for datapoint in sorted_data:\n",
    "        if datapoint not in already_seen:\n",
    "            occurrences = np.count_nonzero(sorted_data == datapoint)\n",
    "            already_seen.append(datapoint)\n",
    "            idx = int((datapoint - min_)/(1/10**decimals))\n",
    "            prob_vector[idx] = (occurrences/len(sorted_data))\n",
    "    \n",
    "    return prob_vector"
   ]
  },
  {
   "cell_type": "code",
   "execution_count": 36,
   "metadata": {},
   "outputs": [],
   "source": [
    "def get_mPE_matrix(reduced_traj, bins_number, traj_number, orders=[3]):\n",
    "    mPE_vector = np.zeros((bins_number, traj_number, len(orders)))\n",
    "    traj_length = int((reduced_traj.shape[0]/bins_number)/traj_number)\n",
    "    for a, order in enumerate(orders):\n",
    "        for i in range(bins_number):\n",
    "            idx = 0\n",
    "            idx_1 = 0\n",
    "            for j in range(0, traj_length*traj_number, traj_length):\n",
    "                idx_1 = i*bins_number*traj_length \n",
    "                traj = reduced_traj[idx_1 + j: idx_1 + j + traj_length]\n",
    "                if traj.shape[0]>0:\n",
    "                    [HH, _]=mPE(traj, order)\n",
    "                    mPE_vector[i, idx , a] = HH\n",
    "                idx += 1\n",
    "                \n",
    "    return mPE_vector"
   ]
  },
  {
   "cell_type": "code",
   "execution_count": 10,
   "metadata": {},
   "outputs": [],
   "source": [
    "def get_vel_matrix(trajectory, bins_number=30, traj_number=30, least_varaince_zdim=8*3):\n",
    "    f_s = 300\n",
    "    vel_matrix = np.zeros((bins_number, traj_number))\n",
    "    traj_length = int((reduced_traj.shape[0]/bins_number)/traj_number)\n",
    "    for i in range(bins_number):\n",
    "        idx = 0\n",
    "        idx_1 = 0\n",
    "        for j in range(0, traj_length*traj_number, traj_length):\n",
    "            idx_1 = i*bins_number*traj_length \n",
    "            traj = trajectory[idx_1 + j: idx_1 + j + traj_length, least_varaince_zdim:least_varaince_zdim+3]\n",
    "            vel_bin = 0\n",
    "            last_point = traj[0, :]\n",
    "            for point in traj:\n",
    "                vel_bin = vel_bin + distance.euclidean(point, last_point)\n",
    "                last_point = point\n",
    "            vel_matrix[i, idx] = vel_bin\n",
    "            idx += 1\n",
    "                \n",
    "    return vel_matrix"
   ]
  },
  {
   "cell_type": "code",
   "execution_count": 11,
   "metadata": {},
   "outputs": [],
   "source": [
    "def behavioural_entropy(behav_time_series, bins_number, traj_number, mode):\n",
    "    mPE_vector = np.zeros((bins_number, traj_number, len(orders)))\n",
    "    traj_length = int((reduced_traj.shape[0]/bins_number)/traj_number)\n",
    "    for a, order in enumerate(orders):\n",
    "        for i in range(bins_number):\n",
    "            idx = 0\n",
    "            idx_1 = 0\n",
    "            for j in range(0, traj_length*traj_number, traj_length):\n",
    "                idx_1 = i*bins_number*traj_length \n",
    "                traj = reduced_traj[idx_1 + j: idx_1 + j + traj_length]\n",
    "                if mode=='PE':\n",
    "                    [HH,hh_norm]=mPE(traj, order)\n",
    "                elif mode=='Shannon':\n",
    "                    HH = entropy(traj, base=2)\n",
    "                mPE_vector[i, idx , a] = HH\n",
    "                idx += 1\n",
    "                \n",
    "    return mPE_vector"
   ]
  },
  {
   "cell_type": "code",
   "execution_count": 12,
   "metadata": {},
   "outputs": [],
   "source": [
    "def joint_prob_matrix(x, y, n_behaviours, truncation_decimal=1):\n",
    "    # Checking that the dimensions are in the right order\n",
    "    if x.shape[0] < x.shape[1]:\n",
    "        x = np.transpose(x)\n",
    "    if y.shape[0] < y.shape[1]:\n",
    "        y = np.transpose(y)\n",
    "    \n",
    "    # rounding reduced trajectory to 2 decimal place\n",
    "    rounded_x = [(round(i * 10**(truncation_decimal)))/(10**truncation_decimal) for i in x]\n",
    "    rounded_x = np.asarray(rounded_x)\n",
    "    # finding max and min of reduced trajectory data\n",
    "    min_ = float('inf')\n",
    "    max_ = float('-inf')\n",
    "    for time_point in range(rounded_x.shape[0]):\n",
    "        for positions in range(rounded_x.shape[1]):\n",
    "            if rounded_x[time_point, positions] > max_:\n",
    "                max_ = rounded_x[time_point, positions]\n",
    "            elif rounded_x[time_point, positions] < min_:\n",
    "                min_ = rounded_x[time_point, positions]\n",
    "\n",
    "    min_ = (round(min_ * 10**(truncation_decimal)))/(10**truncation_decimal)\n",
    "    max_ = (round(max_ * 10**(truncation_decimal)))/(10**truncation_decimal)\n",
    "    max_size = int((max_ - min_)/(1/(10**truncation_decimal)))\n",
    "    # concatating joint data (x and y)\n",
    "    joint_data = np.concatenate(rounded_x, y, axis=1)\n",
    "\n",
    "    already_seen = []\n",
    "    joint_prob_matrix = 2*np.zeros((max_size, n_behaviours))\n",
    "    occurrences, idx_location, idx_behaviour = 0, 0, 0\n",
    "    for joint_array in rounded_x:\n",
    "        if joint_array not in already_seen:\n",
    "            occurrences = np.count_nonzero(sorted_data == joint_array)\n",
    "            already_seen.append(joint_array)\n",
    "            found = True\n",
    "            while found == False:\n",
    "                idx_location = np.random.randint(max_size)\n",
    "                if joint_prob_matrix[idx_location, idx_behaviour] == 2:\n",
    "                    found = False\n",
    "                    break\n",
    "            idx_behaviour = joint_array[joint_data.shape[1]]\n",
    "            joint_prob_matrix[idx_location, idx_behaviour] = (occurrences/joint_data.shape[0])\n",
    "    \n",
    "    return prob_vector"
   ]
  },
  {
   "cell_type": "code",
   "execution_count": 13,
   "metadata": {},
   "outputs": [
    {
     "ename": "TypeError",
     "evalue": "type numpy.ndarray doesn't define __round__ method",
     "output_type": "error",
     "traceback": [
      "\u001b[0;31m---------------------------------------------------------------------------\u001b[0m",
      "\u001b[0;31mTypeError\u001b[0m                                 Traceback (most recent call last)",
      "\u001b[0;32m<ipython-input-13-1cc400276af3>\u001b[0m in \u001b[0;36m<module>\u001b[0;34m\u001b[0m\n\u001b[0;32m----> 1\u001b[0;31m \u001b[0mjoint_prob\u001b[0m \u001b[0;34m=\u001b[0m \u001b[0mjoint_prob_matrix\u001b[0m\u001b[0;34m(\u001b[0m\u001b[0mframes_6Hz\u001b[0m\u001b[0;34m,\u001b[0m \u001b[0midxs_behaviours\u001b[0m\u001b[0;34m,\u001b[0m \u001b[0;36m1831\u001b[0m\u001b[0;34m)\u001b[0m\u001b[0;34m\u001b[0m\u001b[0;34m\u001b[0m\u001b[0m\n\u001b[0m",
      "\u001b[0;32m<ipython-input-12-8e21ac7b3371>\u001b[0m in \u001b[0;36mjoint_prob_matrix\u001b[0;34m(x, y, n_behaviours, truncation_decimal)\u001b[0m\n\u001b[1;32m      7\u001b[0m \u001b[0;34m\u001b[0m\u001b[0m\n\u001b[1;32m      8\u001b[0m     \u001b[0;31m# rounding reduced trajectory to 2 decimal place\u001b[0m\u001b[0;34m\u001b[0m\u001b[0;34m\u001b[0m\u001b[0;34m\u001b[0m\u001b[0m\n\u001b[0;32m----> 9\u001b[0;31m     \u001b[0mrounded_x\u001b[0m \u001b[0;34m=\u001b[0m \u001b[0;34m[\u001b[0m\u001b[0;34m(\u001b[0m\u001b[0mround\u001b[0m\u001b[0;34m(\u001b[0m\u001b[0mi\u001b[0m \u001b[0;34m*\u001b[0m \u001b[0;36m10\u001b[0m\u001b[0;34m**\u001b[0m\u001b[0;34m(\u001b[0m\u001b[0mtruncation_decimal\u001b[0m\u001b[0;34m)\u001b[0m\u001b[0;34m)\u001b[0m\u001b[0;34m)\u001b[0m\u001b[0;34m/\u001b[0m\u001b[0;34m(\u001b[0m\u001b[0;36m10\u001b[0m\u001b[0;34m**\u001b[0m\u001b[0mtruncation_decimal\u001b[0m\u001b[0;34m)\u001b[0m \u001b[0;32mfor\u001b[0m \u001b[0mi\u001b[0m \u001b[0;32min\u001b[0m \u001b[0mx\u001b[0m\u001b[0;34m]\u001b[0m\u001b[0;34m\u001b[0m\u001b[0;34m\u001b[0m\u001b[0m\n\u001b[0m\u001b[1;32m     10\u001b[0m     \u001b[0mrounded_x\u001b[0m \u001b[0;34m=\u001b[0m \u001b[0mnp\u001b[0m\u001b[0;34m.\u001b[0m\u001b[0masarray\u001b[0m\u001b[0;34m(\u001b[0m\u001b[0mrounded_x\u001b[0m\u001b[0;34m)\u001b[0m\u001b[0;34m\u001b[0m\u001b[0;34m\u001b[0m\u001b[0m\n\u001b[1;32m     11\u001b[0m     \u001b[0;31m# finding max and min of reduced trajectory data\u001b[0m\u001b[0;34m\u001b[0m\u001b[0;34m\u001b[0m\u001b[0;34m\u001b[0m\u001b[0m\n",
      "\u001b[0;32m<ipython-input-12-8e21ac7b3371>\u001b[0m in \u001b[0;36m<listcomp>\u001b[0;34m(.0)\u001b[0m\n\u001b[1;32m      7\u001b[0m \u001b[0;34m\u001b[0m\u001b[0m\n\u001b[1;32m      8\u001b[0m     \u001b[0;31m# rounding reduced trajectory to 2 decimal place\u001b[0m\u001b[0;34m\u001b[0m\u001b[0;34m\u001b[0m\u001b[0;34m\u001b[0m\u001b[0m\n\u001b[0;32m----> 9\u001b[0;31m     \u001b[0mrounded_x\u001b[0m \u001b[0;34m=\u001b[0m \u001b[0;34m[\u001b[0m\u001b[0;34m(\u001b[0m\u001b[0mround\u001b[0m\u001b[0;34m(\u001b[0m\u001b[0mi\u001b[0m \u001b[0;34m*\u001b[0m \u001b[0;36m10\u001b[0m\u001b[0;34m**\u001b[0m\u001b[0;34m(\u001b[0m\u001b[0mtruncation_decimal\u001b[0m\u001b[0;34m)\u001b[0m\u001b[0;34m)\u001b[0m\u001b[0;34m)\u001b[0m\u001b[0;34m/\u001b[0m\u001b[0;34m(\u001b[0m\u001b[0;36m10\u001b[0m\u001b[0;34m**\u001b[0m\u001b[0mtruncation_decimal\u001b[0m\u001b[0;34m)\u001b[0m \u001b[0;32mfor\u001b[0m \u001b[0mi\u001b[0m \u001b[0;32min\u001b[0m \u001b[0mx\u001b[0m\u001b[0;34m]\u001b[0m\u001b[0;34m\u001b[0m\u001b[0;34m\u001b[0m\u001b[0m\n\u001b[0m\u001b[1;32m     10\u001b[0m     \u001b[0mrounded_x\u001b[0m \u001b[0;34m=\u001b[0m \u001b[0mnp\u001b[0m\u001b[0;34m.\u001b[0m\u001b[0masarray\u001b[0m\u001b[0;34m(\u001b[0m\u001b[0mrounded_x\u001b[0m\u001b[0;34m)\u001b[0m\u001b[0;34m\u001b[0m\u001b[0;34m\u001b[0m\u001b[0m\n\u001b[1;32m     11\u001b[0m     \u001b[0;31m# finding max and min of reduced trajectory data\u001b[0m\u001b[0;34m\u001b[0m\u001b[0;34m\u001b[0m\u001b[0;34m\u001b[0m\u001b[0m\n",
      "\u001b[0;31mTypeError\u001b[0m: type numpy.ndarray doesn't define __round__ method"
     ]
    }
   ],
   "source": [
    "joint_prob = joint_prob_matrix(frames_6Hz, idxs_behaviours, 1831)\n"
   ]
  },
  {
   "cell_type": "markdown",
   "metadata": {},
   "source": [
    "### Entropy time-evolution"
   ]
  },
  {
   "cell_type": "code",
   "execution_count": null,
   "metadata": {},
   "outputs": [
    {
     "name": "stdout",
     "output_type": "stream",
     "text": [
      "9039600 83 30\n"
     ]
    }
   ],
   "source": [
    "# Entropy Calculation:\n",
    "# - Divide entire trajetcory in 'bins_number' bins\n",
    "# - Divide each bin for 'traj_number' trajectories\n",
    "# - Calculate mPE for each of these trajectories \n",
    "minutes = 6\n",
    "f_s = 300\n",
    "bin_length = f_s*60*minutes\n",
    "bins_number = int(reduced_traj.shape[0]/bin_length)\n",
    "traj_number = 30\n",
    "orders = [3]\n",
    "\n",
    "print(reduced_traj.shape[0], bins_number, traj_number)\n",
    "\n",
    "mPE_vector = get_mPE_matrix(reduced_traj, bins_number, traj_number, orders)"
   ]
  },
  {
   "cell_type": "code",
   "execution_count": null,
   "metadata": {
    "tags": []
   },
   "outputs": [],
   "source": [
    "# entropy distribution visualization\n",
    "\n",
    "# plotting mpE of the first bin \n",
    "mode = 'hist'\n",
    "bin_n = 2\n",
    "order_n = 0\n",
    "fig = plt.figure()\n",
    "\n",
    "# plotting histograms of two different bins\n",
    "if mode == 'hist':\n",
    "    n, bins, patches = plt.hist(x = mPE_vector[bin_n, :, order_n] , bins='auto', color='green',\n",
    "                                alpha=0.7, rwidth=0.85)\n",
    "    n, bins, patches = plt.hist(x= mPE_vector[mPE_vector.shape[0]-5, :, order_n] , bins='auto', color='red',\n",
    "                                alpha=0.7, rwidth=0.85)\n",
    "\n",
    "# plotting mPE continuous distribution as a function of time \n",
    "elif mode =='distribution':\n",
    "    print(bins_number)\n",
    "    bins = np.arange(bins_number)\n",
    "    means = np.zeros(((bins_number),1))\n",
    "    for bin_n in range(bins_number):\n",
    "        means[bin_n] = np.mean(mPE_vector[bin_n, :, order_n])\n",
    "        # ax = sns.displot(mPE_vector[bin_n, :, order_n],  kind=\"kde\")        \n",
    "        ax = sns.distplot(mPE_vector[bin_n, :, order_n], hist=False, kde=True, \n",
    "                          bins=0.1, \n",
    "                          hist_kws={'edgecolor':'black'},\n",
    "                          kde_kws={'linewidth': 4})\n",
    "        \n",
    "plt.legend()\n",
    "plt.grid(axis='y', alpha=0.75)\n",
    "plt.xlabel('mPE')\n",
    "plt.ylabel('Probability')\n",
    "\n",
    "print((means))\n",
    "fig = plt.figure()\n",
    "plt.plot(np.arange(bins_number), means)\n",
    "plt.xlabel('time bin')\n",
    "plt.ylabel('mean mPE')"
   ]
  },
  {
   "cell_type": "code",
   "execution_count": 15,
   "metadata": {},
   "outputs": [
    {
     "ename": "IndexError",
     "evalue": "index 30 is out of bounds for axis 1 with size 30",
     "output_type": "error",
     "traceback": [
      "\u001b[0;31m---------------------------------------------------------------------------\u001b[0m",
      "\u001b[0;31mIndexError\u001b[0m                                Traceback (most recent call last)",
      "\u001b[0;32m<ipython-input-15-86dffed0cef2>\u001b[0m in \u001b[0;36m<module>\u001b[0;34m\u001b[0m\n\u001b[1;32m      4\u001b[0m     \u001b[0;32mfor\u001b[0m \u001b[0mbin_\u001b[0m \u001b[0;32min\u001b[0m \u001b[0mrange\u001b[0m\u001b[0;34m(\u001b[0m\u001b[0mmPE_vector\u001b[0m\u001b[0;34m.\u001b[0m\u001b[0mshape\u001b[0m\u001b[0;34m[\u001b[0m\u001b[0;36m0\u001b[0m\u001b[0;34m]\u001b[0m\u001b[0;34m)\u001b[0m\u001b[0;34m:\u001b[0m\u001b[0;34m\u001b[0m\u001b[0;34m\u001b[0m\u001b[0m\n\u001b[1;32m      5\u001b[0m         \u001b[0;32mfor\u001b[0m \u001b[0mtraj\u001b[0m \u001b[0;32min\u001b[0m \u001b[0mrange\u001b[0m\u001b[0;34m(\u001b[0m\u001b[0mmPE_vector\u001b[0m\u001b[0;34m.\u001b[0m\u001b[0mshape\u001b[0m\u001b[0;34m[\u001b[0m\u001b[0;36m1\u001b[0m\u001b[0;34m]\u001b[0m\u001b[0;34m)\u001b[0m\u001b[0;34m:\u001b[0m\u001b[0;34m\u001b[0m\u001b[0;34m\u001b[0m\u001b[0m\n\u001b[0;32m----> 6\u001b[0;31m             \u001b[0;32mif\u001b[0m \u001b[0mmPE_vector\u001b[0m\u001b[0;34m[\u001b[0m\u001b[0mtraj\u001b[0m\u001b[0;34m,\u001b[0m \u001b[0mbin_\u001b[0m\u001b[0;34m,\u001b[0m \u001b[0morder\u001b[0m\u001b[0;34m]\u001b[0m \u001b[0;34m>\u001b[0m \u001b[0mmax_\u001b[0m\u001b[0;34m:\u001b[0m\u001b[0;34m\u001b[0m\u001b[0;34m\u001b[0m\u001b[0m\n\u001b[0m\u001b[1;32m      7\u001b[0m                 \u001b[0mmax_\u001b[0m \u001b[0;34m=\u001b[0m \u001b[0mmPE_vector\u001b[0m\u001b[0;34m[\u001b[0m\u001b[0mtraj\u001b[0m\u001b[0;34m,\u001b[0m \u001b[0mbin_\u001b[0m\u001b[0;34m,\u001b[0m \u001b[0morder\u001b[0m\u001b[0;34m]\u001b[0m\u001b[0;34m\u001b[0m\u001b[0;34m\u001b[0m\u001b[0m\n\u001b[1;32m      8\u001b[0m             \u001b[0;32melif\u001b[0m \u001b[0mmPE_vector\u001b[0m\u001b[0;34m[\u001b[0m\u001b[0mtraj\u001b[0m\u001b[0;34m,\u001b[0m \u001b[0mbin_\u001b[0m\u001b[0;34m,\u001b[0m \u001b[0morder\u001b[0m\u001b[0;34m]\u001b[0m \u001b[0;34m<\u001b[0m \u001b[0mmin_\u001b[0m\u001b[0;34m:\u001b[0m\u001b[0;34m\u001b[0m\u001b[0;34m\u001b[0m\u001b[0m\n",
      "\u001b[0;31mIndexError\u001b[0m: index 30 is out of bounds for axis 1 with size 30"
     ]
    }
   ],
   "source": [
    "min_ = float('inf')\n",
    "max_ = float('-inf')\n",
    "for order in range(mPE_vector.shape[2]):\n",
    "    for bin_ in range(mPE_vector.shape[0]):\n",
    "        for traj in range(mPE_vector.shape[1]):\n",
    "            if mPE_vector[traj, bin_, order] > max_:\n",
    "                max_ = mPE_vector[traj, bin_, order]\n",
    "            elif mPE_vector[traj, bin_, order] < min_:\n",
    "                min_ = mPE_vector[traj, bin_, order]\n",
    "\n",
    "truncation_decimal = 1\n",
    "min_ = (round(min_ * 10**(truncation_decimal)))/(10**truncation_decimal)\n",
    "max_ = (round(max_ * 10**(truncation_decimal)))/(10**truncation_decimal)\n",
    "max_size = int((max_ - min_)/(1/(10**truncation_decimal)))\n",
    "\n",
    "# plotting J-S divergence as a function of bin number\n",
    "compare_to = prob_vector(mPE_vector[0, :, 0], max_size, min_)\n",
    "js_vector = np.zeros((mPE_vector.shape[0]))\n",
    "ks_vector = np.zeros((mPE_vector.shape[0], 2))\n",
    "ks_and_div = np.zeros((mPE_vector.shape[0], 2))\n",
    "significance_lev = 0.01\n",
    "for i in range(mPE_vector.shape[0]):\n",
    "    js_vector[i] = distance.jensenshannon(prob_vector(mPE_vector[i, :, 0], max_size, min_), compare_to)\n",
    "    ks_and_div[i, 0] = js_vector[i]\n",
    "    if i > 0:\n",
    "        ks_vector[i, :] = stats.ks_2samp(mPE_vector[i, :, 0], mPE_vector[0, :, 0])\n",
    "        if ks_vector[i, 1] <= significance_lev:\n",
    "            ks_and_div[i, 1] = 1\n",
    "        else:\n",
    "            ks_and_div[i, 1] = 0\n",
    "            \n",
    "fig = plt.figure()\n",
    "# plotting velocity profile of mouse (point-wise)\n",
    "plt.plot(np.arange(mPE_vector.shape[0]), js_vector)\n",
    "plt.xlabel('bin number')\n",
    "plt.ylabel('J-S Divergence')\n",
    "\n",
    "js_rejected = np.where(ks_and_div[:,1] == 1)\n",
    "js_th = float('inf')\n",
    "for i in js_rejected[0]:\n",
    "    if ks_and_div[i, 0] < js_th:\n",
    "        js_th = ks_and_div[i, 0]\n",
    "    \n",
    "fig = plt.figure()\n",
    "plt.scatter(ks_and_div[:, 0], ks_and_div[:, 1])\n",
    "plt.axhline(y=significance_lev, xmin=0, xmax=1)\n",
    "plt.axvline(x=js_th, ymin=0, ymax=1.2)\n",
    "plt.xlabel('J-S Divergence')\n",
    "plt.ylabel('P-Value')"
   ]
  },
  {
   "cell_type": "markdown",
   "metadata": {},
   "source": [
    "### Velocity vs Entropy"
   ]
  },
  {
   "cell_type": "code",
   "execution_count": 33,
   "metadata": {},
   "outputs": [],
   "source": [
    "# Calculate instantaneous velocity of each datapoint (maybe only consider x-y dims)\n",
    "lest_varaince_dim = 8*3\n",
    "minutes = 6\n",
    "f_s = 300\n",
    "bin_length = fs*60*minutes\n",
    "\n",
    "bins_number = int(reduced_traj/bin_length)\n",
    "traj_number = 30\n",
    "orders = [5]\n",
    "vel_matrix = get_vel_matrix(trajectory)"
   ]
  },
  {
   "cell_type": "code",
   "execution_count": 47,
   "metadata": {},
   "outputs": [
    {
     "data": {
      "text/plain": [
       "[<matplotlib.lines.Line2D at 0x146babf8b650>]"
      ]
     },
     "execution_count": 47,
     "metadata": {},
     "output_type": "execute_result"
    },
    {
     "data": {
      "image/png": "[encoded data removed]",
      "text/plain": [
       "<Figure size 640x480 with 1 Axes>"
      ]
     },
     "metadata": {},
     "output_type": "display_data"
    }
   ],
   "source": [
    "# plotting bin-velocity against corresponding mPE\n",
    "vel_vector = vel_matrix.flatten()\n",
    "mPE_vector_ = mPE_vector.flatten()\n",
    "p = np.polyfit(mPE_vector_, vel_vector, 2)\n",
    "x_new = np.linspace(4,12,200)\n",
    "ffit = np.polyval(p, x_new)\n",
    "\n",
    "fig = plt.figure()\n",
    "plt.scatter(mPE_vector_, vel_vector)\n",
    "plt.xlabel('mPE')\n",
    "plt.ylabel('velocity')\n",
    "plt.plot(x_new, ffit)"
   ]
  },
  {
   "cell_type": "markdown",
   "metadata": {},
   "source": [
    "## Entropy Behavioral Analysis"
   ]
  },
  {
   "cell_type": "code",
   "execution_count": null,
   "metadata": {},
   "outputs": [],
   "source": [
    "# Entropy Calculation:\n",
    "# - Divide entire trajetcory in 'bins_number' bins\n",
    "# - Divide each bin for 'traj_number' trajectories\n",
    "# - Calculate mPE for each of these trajectories \n",
    "minutes = 15\n",
    "f_s = 6\n",
    "bin_length = f_s*60*minutes\n",
    "bins_number = int(frames_6Hz_red.shape[0]/bin_length)\n",
    "traj_number = 20\n",
    "orders = [3]\n",
    "mPE_vector = get_mPE_matrix(frames_6Hz_red, bins_number, traj_number, orders)\n",
    "\n",
    "print(frames_6Hz_red.shape[0], bins_number, traj_number)"
   ]
  }
 ],
 "metadata": {
  "kernelspec": {
   "display_name": "Python [conda env:prj_env_conda]",
   "language": "python",
   "name": "conda-env-prj_env_conda-py"
  },
  "language_info": {
   "codemirror_mode": {
    "name": "ipython",
    "version": 3
   },
   "file_extension": ".py",
   "mimetype": "text/x-python",
   "name": "python",
   "nbconvert_exporter": "python",
   "pygments_lexer": "ipython3",
   "version": "3.7.10"
  }
 },
 "nbformat": 4,
 "nbformat_minor": 2
}
