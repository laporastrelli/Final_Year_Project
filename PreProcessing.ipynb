{
 "cells": [
  {
   "cell_type": "markdown",
   "metadata": {},
   "source": [
    "## Imports"
   ]
  },
  {
   "cell_type": "code",
   "execution_count": 1,
   "metadata": {},
   "outputs": [],
   "source": [
    "import numpy as np\n",
    "import matplotlib.pyplot as plt\n",
    "import os\n",
    "import scipy.io\n",
    "import itertools as it\n",
    "import scipy.special as psi\n",
    "plt.style.use('classic')\n",
    "import seaborn as sns\n",
    "import pandas as pd\n",
    "import math\n",
    "import time\n",
    "\n",
    "from sklearn import metrics\n",
    "from scipy.io import loadmat\n",
    "from scipy import stats\n",
    "from numpy.random import seed\n",
    "from numpy.random import rand\n",
    "from scipy.integrate import quad\n",
    "from scipy.io import savemat\n",
    "from tempfile import TemporaryFile\n",
    "from scipy.io import loadmat\n",
    "from sklearn.decomposition import PCA\n",
    "from sklearn.manifold import MDS\n",
    "from sklearn.decomposition import KernelPCA\n",
    "from mpl_toolkits import mplot3d\n",
    "from mPE_fn import mPE\n",
    "from scipy.spatial import distance\n",
    "from scipy.stats import entropy"
   ]
  },
  {
   "cell_type": "markdown",
   "metadata": {},
   "source": [
    "## Load Data"
   ]
  },
  {
   "cell_type": "code",
   "execution_count": 2,
   "metadata": {},
   "outputs": [],
   "source": [
    "# loading entire high-dimensional trajectory\n",
    "path = '/rds/general/user/lr4617/home/4th_Year_Project/CAPTURE_rat_multidimensional/raw_data/normal/traj_1/trajectories/'\n",
    "trajectories = os.listdir(path)"
   ]
  },
  {
   "cell_type": "markdown",
   "metadata": {},
   "source": [
    "## Data Cleansing"
   ]
  },
  {
   "cell_type": "code",
   "execution_count": 3,
   "metadata": {},
   "outputs": [
    {
     "name": "stdout",
     "output_type": "stream",
     "text": [
      "(8100000, 57)\n"
     ]
    }
   ],
   "source": [
    "# removing invalid values (e.g. NaN)\n",
    "# input data is already normalized (z-score) but needs to get rid of non-valued datapoints\n",
    "nan_cols = []\n",
    "for i, time_bin in enumerate(trajectories):\n",
    "    trajectory = loadmat(path + time_bin)\n",
    "    trajectory = trajectory['trajectory'] \n",
    "    for i in range(trajectory.shape[1]):\n",
    "        if np.isnan(trajectory[:, i]).all():\n",
    "            nan_cols.append(i)\n",
    "\n",
    "nan_cols = np.asarray(nan_cols)\n",
    "if len(np.where(nan_cols==nan_cols[0])[0])*3 == len(nan_cols):\n",
    "    all_trajectories = np.zeros((trajectory.shape[0]*int(len(trajectories)), trajectory.shape[1]-3))\n",
    "    for i, time_bin in enumerate(trajectories):\n",
    "        trajectory = loadmat(path + time_bin)\n",
    "        trajectory = trajectory['trajectory'] \n",
    "        trajectory = np.delete(trajectory, nan_cols, 1)\n",
    "        idx_2 = i*trajectory.shape[0]\n",
    "        all_trajectories[idx_2:idx_2+trajectory.shape[0], 0:trajectory.shape[1]] = trajectory\n",
    "\n",
    "print(all_trajectories.shape)"
   ]
  },
  {
   "cell_type": "markdown",
   "metadata": {},
   "source": [
    "## Subsampling Frequency (using MI)"
   ]
  },
  {
   "cell_type": "markdown",
   "metadata": {},
   "source": [
    "### Helper Functions"
   ]
  },
  {
   "cell_type": "code",
   "execution_count": 4,
   "metadata": {},
   "outputs": [],
   "source": [
    "def probability(*argv):\n",
    "    '''\n",
    "    input: \n",
    "        - 1D sequence of rv observations\n",
    "    return: \n",
    "        - probability vector\n",
    "    '''\n",
    "    n_args = len(argv)\n",
    "    if n_args == 1:\n",
    "        sequence = argv[0]\n",
    "        decimals = 1\n",
    "        \n",
    "    if n_args == 2:\n",
    "        sequence = argv[0]\n",
    "        decimals = argv[1]\n",
    "    \n",
    "    if len(sequence.shape) > 1 and (sequence.shape[0] < sequence.shape[1]):\n",
    "        sequence = np.transpose(sequence)\n",
    "    \n",
    "    # round input sequence to avoid sparse probability vector\n",
    "    sequence = np.round(sequence, decimals)\n",
    "    unique = np.unique(sequence, axis=0)\n",
    "    n_unique = len(unique)\n",
    "\n",
    "    # fill probability vector\n",
    "    prob_vector = np.zeros((n_unique, 1))\n",
    "    for row in sequence:\n",
    "        if len(sequence.shape) > 1:\n",
    "            occurrences = len(np.where(np.all(np.isclose(sequence, row), axis=1))[0])\n",
    "            idx = np.where(np.all(np.isclose(unique, row), axis=1))[0][0]\n",
    "        else:\n",
    "            occurrences = len(np.where(np.isclose(sequence, row))[0])\n",
    "            idx = np.where(np.isclose(unique, row))[0][0]\n",
    "            \n",
    "        if prob_vector[idx] == 0:\n",
    "            prob_vector[idx] = occurrences/(sequence.shape[0])\n",
    "            \n",
    "    return prob_vector"
   ]
  },
  {
   "cell_type": "code",
   "execution_count": 5,
   "metadata": {},
   "outputs": [],
   "source": [
    "def joint_probability(*argv):\n",
    "    '''\n",
    "    input: \n",
    "        - sequence_1 of rv_1 observations\n",
    "        - sequence_2 of rv_2 observations\n",
    "        - number of dimensions of input sequences to consider(default = all)\n",
    "    return: \n",
    "        - joint probability vector\n",
    "    '''\n",
    "    n_args = len(argv)\n",
    "    if n_args == 2:\n",
    "        s1 = argv[0]\n",
    "        s2 = argv[1]\n",
    "        if len(s1.shape)==1 and len(s2.shape)==1:\n",
    "            s1 = np.reshape(s1, (s1.shape[0], 1))\n",
    "            s2 = np.reshape(s2, (s2.shape[0], 1))\n",
    "        dims = s1.shape[1]\n",
    "        decimals = 1\n",
    "    \n",
    "    if n_args == 3:\n",
    "        s1 = argv[0]\n",
    "        s2 = argv[1]\n",
    "        decimals = argv[2]\n",
    "        if len(s1.shape)==1 and len(s2.shape)==1:\n",
    "            s1 = np.reshape(s1, (s1.shape[0], 1))\n",
    "            s2 = np.reshape(s2, (s2.shape[0], 1))\n",
    "        dims = s1.shape[1]\n",
    "        \n",
    "    if n_args == 4:\n",
    "        s1 = argv[0]\n",
    "        s2 = argv[1]\n",
    "        decimals = argv[2]\n",
    "        dims = argv[3]\n",
    "        # select dims based on input\n",
    "        s1 = s1[:, 0:dims]\n",
    "        s2 = s2[:, 0:dims]\n",
    "        \n",
    "    # checking that the dimensions of the input sequences are in the right order\n",
    "    if s1.shape[0] < s1.shape[1]:\n",
    "        s1 = np.transpose(s1)\n",
    "    if s2.shape[0] < s2.shape[1]:\n",
    "        s2 = np.transpose(s2)\n",
    "    \n",
    "    s1 = np.around(s1, decimals)\n",
    "    s2 = np.around(s2, decimals) \n",
    "    \n",
    "    # here we assume that the input sequences are already rounded (n_observations x n_dimensions)\n",
    "    unique_s1 = np.unique(s1, axis=0)\n",
    "    n_triplets_s1 = len(unique_s1)\n",
    "    unique_s2 = np.unique(s2, axis=0)\n",
    "    n_triplets_s2 = len(unique_s2)\n",
    "\n",
    "    joint_data = np.concatenate((s1, s2), axis=1)\n",
    "    \n",
    "    # filling joint probability matrix\n",
    "    joint_prob_matrix = np.zeros((n_triplets_s1, n_triplets_s2))\n",
    "    occurrences, idx_s1, idx_s2 = 0, 0, 0\n",
    "    for joint_array in joint_data:\n",
    "        occurrences = len(np.where(np.all(np.isclose(joint_data, joint_array), axis=1))[0])\n",
    "        idx_s1 = np.where(np.all(np.isclose(unique_s1, joint_array[0:dims]), axis=1))\n",
    "        idx_s2 = np.where(np.all(np.isclose(unique_s2, joint_array[dims:2*dims]), axis=1))\n",
    "        if joint_prob_matrix[idx_s1[0][0], idx_s2[0][0]] == 0:\n",
    "            joint_prob_matrix[idx_s1[0][0], idx_s2[0][0]] = (occurrences/joint_data.shape[0])\n",
    "            \n",
    "    return joint_prob_matrix"
   ]
  },
  {
   "cell_type": "code",
   "execution_count": 6,
   "metadata": {},
   "outputs": [],
   "source": [
    "def conditional_entropy(prob_s1s2, prob_s2):\n",
    "    E_cond = 0\n",
    "    for i in range(prob_s1s2.shape[0]):\n",
    "        for j in range(prob_s1s2.shape[1]):\n",
    "            E_cond += prob_s1s2[i,j] * math.log((prob_s2[j]/prob_s1s2[i,j]), 2)\n",
    "            \n",
    "    return E_cond"
   ]
  },
  {
   "cell_type": "code",
   "execution_count": 7,
   "metadata": {},
   "outputs": [],
   "source": [
    "def joint_entropy(prob_s1s2):\n",
    "    E_joint = 0\n",
    "    for i in range(prob_s1s2.shape[0]):\n",
    "        for j in range(prob_s1s2.shape[1]):\n",
    "            if prob_s1s2[i,j] > 0:\n",
    "                E_joint += prob_s1s2[i,j] * math.log((1/prob_s1s2[i,j]), 2)\n",
    "            \n",
    "    return E_joint"
   ]
  },
  {
   "cell_type": "code",
   "execution_count": 8,
   "metadata": {},
   "outputs": [],
   "source": [
    "def AIMF(prob_s1, prob_s2, prob_s1s2):\n",
    "    AIMF = 0\n",
    "    for i in range(prob_s1s2.shape[0]):\n",
    "        for j in range(prob_s1s2.shape[1]):\n",
    "            if prob_s1s2[i,j] > 0:\n",
    "                AIMF += prob_s1s2[i,j] * math.log((prob_s1s2[i,j]/(prob_s1[i]*prob_s2[j])), 2)\n",
    "    \n",
    "    return AIMF"
   ]
  },
  {
   "cell_type": "markdown",
   "metadata": {},
   "source": [
    "### Sub-sampling frequency vs MI "
   ]
  },
  {
   "cell_type": "code",
   "execution_count": null,
   "metadata": {},
   "outputs": [],
   "source": [
    "fs_og = 300\n",
    "length_ = int(all_trajectories.shape[0]/len(trajectories))\n",
    "shifts = np.arange(0, 300, 5)\n",
    "decimals = 2\n",
    "dim = 6\n",
    "\n",
    "auto_MI_per_lag = np.zeros((len(shifts), 1))\n",
    "auto_MI_per_lag_norm = np.zeros((len(shifts), 1))\n",
    "path_out = '/rds/general/user/lr4617/home/4th_Year_Project/CAPTURE_rat_multidimensional/raw_data/normal/traj_1/'\n",
    "\n",
    "s1 = all_trajectories[length_:2*length_, dim]\n",
    "prob_s1 = probability(s1, decimals)\n",
    "\n",
    "for i, shift in enumerate(shifts):\n",
    "    print(\"SHIFT = \", shift)\n",
    "\n",
    "    s2 = all_trajectories[length_+shift:2*length_+shift, dim]\n",
    "    prob_s2 = probability(s2, decimals)\n",
    "    prob_s1s2 = joint_probability(s1, s2, decimals) \n",
    "    auto_MI = AIMF(prob_s1, prob_s2, prob_s1s2)\n",
    "    print('auto mutual information: ', auto_MI)\n",
    "    auto_MI_per_lag[i] = auto_MI\n",
    "    np.save(path_out + 'auto_MI_per_lag_' + str(dim), auto_MI_per_lag)\n",
    "\n",
    "auto_MI_per_lag_norm = auto_MI_per_lag/(np.max(auto_MI_per_lag))\n",
    "# plotting relation between MI and sub-sampling frequency\n",
    "fig = plt.figure()\n",
    "plt.scatter(shifts, auto_MI_per_lag)\n",
    "plt.ylabel('Auto-MI')\n",
    "plt.xlabel('Time Lag')\n",
    "plt.show()\n",
    "plt.savefig(path_out + \"auto_MI_per_lag_\" + str(dim) + \".png\")\n",
    "\n",
    "fig = plt.figure()\n",
    "plt.scatter(shifts, auto_MI_per_lag_norm)\n",
    "plt.ylabel('Auto-MI')\n",
    "plt.xlabel('Time Lag')\n",
    "plt.show()\n",
    "plt.savefig(path_out + \"auto_MI_per_lag_norm_\" + str(dim) + \".png\")"
   ]
  },
  {
   "cell_type": "code",
   "execution_count": 7,
   "metadata": {},
   "outputs": [
    {
     "data": {
      "image/png": "[encoded data removed]",
      "text/plain": [
       "<Figure size 640x480 with 1 Axes>"
      ]
     },
     "metadata": {},
     "output_type": "display_data"
    }
   ],
   "source": [
    "path_in = '/rds/general/user/lr4617/home/4th_Year_Project/CAPTURE_rat_multidimensional/raw_data/normal/traj_1/'\n",
    "auto_MI = np.load(path_in + 'auto_MI_per_lag_6.npy')\n",
    "non_zero = np.count_nonzero(auto_MI)\n",
    "shifts = np.arange(0, 300, 5)\n",
    "\n",
    "plt.scatter(shifts[0:non_zero], auto_MI[0:non_zero])\n",
    "plt.ylabel('Auto-MI')\n",
    "plt.xlabel('Time Lag')\n",
    "plt.title('AUTO MI vs TIME LAG')\n",
    "plt.show()"
   ]
  },
  {
   "cell_type": "code",
   "execution_count": null,
   "metadata": {},
   "outputs": [],
   "source": []
  }
 ],
 "metadata": {
  "kernelspec": {
   "display_name": "Python [conda env:prj_env_conda]",
   "language": "python",
   "name": "conda-env-prj_env_conda-py"
  },
  "language_info": {
   "codemirror_mode": {
    "name": "ipython",
    "version": 3
   },
   "file_extension": ".py",
   "mimetype": "text/x-python",
   "name": "python",
   "nbconvert_exporter": "python",
   "pygments_lexer": "ipython3",
   "version": "3.7.10"
  }
 },
 "nbformat": 4,
 "nbformat_minor": 2
}
