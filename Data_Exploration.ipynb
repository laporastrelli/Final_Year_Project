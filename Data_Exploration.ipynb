{
 "cells": [
  {
   "cell_type": "markdown",
   "metadata": {},
   "source": [
    "## Imports"
   ]
  },
  {
   "cell_type": "code",
   "execution_count": 1,
   "metadata": {},
   "outputs": [],
   "source": [
    "import numpy as np\n",
    "import matplotlib.pyplot as plt\n",
    "import os\n",
    "import scipy.io\n",
    "import itertools as it\n",
    "import scipy.special as psi\n",
    "plt.style.use('classic')\n",
    "import seaborn as sns\n",
    "import pandas as pd\n",
    "import time \n",
    "\n",
    "from scipy.io import loadmat\n",
    "from scipy import stats\n",
    "from numpy.random import seed\n",
    "from numpy.random import rand\n",
    "from scipy.integrate import quad\n",
    "from scipy.io import savemat\n",
    "from tempfile import TemporaryFile\n",
    "from scipy.io import loadmat\n",
    "from sklearn.decomposition import PCA\n",
    "from sklearn.manifold import MDS\n",
    "from sklearn.decomposition import KernelPCA\n",
    "from mpl_toolkits import mplot3d\n",
    "from mPE_fn import mPE\n",
    "from scipy.spatial import distance\n",
    "from scipy.stats import entropy"
   ]
  },
  {
   "cell_type": "markdown",
   "metadata": {},
   "source": [
    "## Load and Clean Data"
   ]
  },
  {
   "cell_type": "code",
   "execution_count": 2,
   "metadata": {},
   "outputs": [
    {
     "name": "stdout",
     "output_type": "stream",
     "text": [
      "traj_5\n",
      "traj_3\n",
      "traj_4\n",
      "traj_1\n",
      "(38880000, 57)\n"
     ]
    }
   ],
   "source": [
    "# loading entire high-dimensional trajectory\n",
    "path = '/rds/general/user/lr4617/home/4th_Year_Project/CAPTURE_rat_multidimensional/raw_data/normal/'\n",
    "trajectories = os.listdir(path)\n",
    "\n",
    "lengths = []\n",
    "nan_cols = [12,13,14]\n",
    "for n, traj_n in enumerate(trajectories):\n",
    "    if traj_n != \"traj_2\":\n",
    "        print(traj_n)\n",
    "        path_n = path + traj_n + '/trajectories/'\n",
    "        trajs = os.listdir(path_n)\n",
    "        trajectory = loadmat(path_n + trajs[0])\n",
    "        trajectory = trajectory['trajectory']\n",
    "        # removing invalid values (e.g. NaN)\n",
    "        # input data is already normalized (z-score) but needs to get rid of non-valued datapoints\n",
    "        all_trajectories = np.zeros((trajectory.shape[0]*int(len(trajs)), trajectory.shape[1]-3))\n",
    "        for i, time_bin in enumerate(trajs):\n",
    "            if i <= 20:\n",
    "                trajectory = loadmat(path_n + time_bin)\n",
    "                trajectory = trajectory['trajectory'] \n",
    "                trajectory = np.delete(trajectory, nan_cols, 1)\n",
    "                idx_2 = i*trajectory.shape[0]\n",
    "                all_trajectories[idx_2:idx_2+trajectory.shape[0], 0:trajectory.shape[1]] = trajectory\n",
    "\n",
    "        lengths.append(all_trajectories.shape[0])\n",
    "\n",
    "        if n==0:\n",
    "            rats = all_trajectories\n",
    "        if n>0:\n",
    "            rats = np.concatenate((rats, all_trajectories), axis=0)\n",
    "\n",
    "print(rats.shape)"
   ]
  },
  {
   "cell_type": "markdown",
   "metadata": {},
   "source": [
    "## K-S Test same dimensions"
   ]
  },
  {
   "cell_type": "code",
   "execution_count": 3,
   "metadata": {},
   "outputs": [],
   "source": [
    "def probability(sequence, decimals=1):\n",
    "    '''\n",
    "    input: \n",
    "        - 1D sequence of rv observations\n",
    "    return: \n",
    "        - probability vector\n",
    "    '''\n",
    "    # round input sequence to avoid sparse probability vector\n",
    "    sequence = np.round(sequence, decimals)\n",
    "    unique = np.unique(sequence, axis=0)\n",
    "    n_triplets_1 = len(unique)\n",
    "    \n",
    "    # fill probability vector\n",
    "    prob_vector = 2*np.ones((n_triplets_1, 1))\n",
    "    # already_seen = np.zeros((n_triplets_1, 3))\n",
    "    idx_ = 0\n",
    "    for i, row in enumerate(sequence):\n",
    "        # if row.tolist() not in already_seen.tolist():\n",
    "        occurrences = np.count_nonzero(sequence==row)\n",
    "        # already_seen[idx_, :] = row\n",
    "        # idx_ += 1\n",
    "        idx = np.where(np.all(np.isclose(unique, row), axis=1))\n",
    "        if prob_vector[idx[0]] == 2:\n",
    "            prob_vector[idx[0]] = occurrences/(len(sequence))\n",
    "            \n",
    "    return prob_vector"
   ]
  },
  {
   "cell_type": "code",
   "execution_count": 4,
   "metadata": {},
   "outputs": [
    {
     "name": "stdout",
     "output_type": "stream",
     "text": [
      "CALCULATING PROBABILITY VECTORS\n",
      "0\n",
      "0\n",
      "0.0003044605255126953\n",
      "300\n",
      "9.062580823898315\n",
      "600\n",
      "9.046406269073486\n",
      "900\n",
      "9.046587467193604\n",
      "1200\n",
      "9.034730434417725\n",
      "1500\n",
      "9.05178189277649\n",
      "1800\n",
      "9.048856973648071\n",
      "2100\n",
      "9.053689956665039\n",
      "2400\n",
      "9.049997806549072\n",
      "2700\n",
      "9.060191631317139\n",
      "3000\n",
      "8.95849609375\n",
      "3300\n",
      "8.641016006469727\n",
      "3600\n",
      "8.705408096313477\n",
      "3900\n",
      "8.700624704360962\n",
      "4200\n",
      "8.791344165802002\n",
      "4500\n",
      "8.637744188308716\n",
      "4800\n",
      "8.619877338409424\n",
      "5100\n",
      "8.62427830696106\n",
      "5400\n",
      "8.618142366409302\n",
      "5700\n",
      "8.684651136398315\n",
      "6000\n",
      "8.631887674331665\n",
      "6300\n",
      "8.630306482315063\n",
      "6600\n",
      "8.611292839050293\n",
      "6900\n",
      "8.607669353485107\n",
      "7200\n",
      "8.604480266571045\n",
      "7500\n",
      "8.610569477081299\n"
     ]
    },
    {
     "ename": "KeyboardInterrupt",
     "evalue": "",
     "output_type": "error",
     "traceback": [
      "\u001b[0;31m---------------------------------------------------------------------------\u001b[0m",
      "\u001b[0;31mKeyboardInterrupt\u001b[0m                         Traceback (most recent call last)",
      "\u001b[0;32m<ipython-input-4-05eadd887966>\u001b[0m in \u001b[0;36m<module>\u001b[0;34m\u001b[0m\n\u001b[1;32m      7\u001b[0m     \u001b[0mprint\u001b[0m\u001b[0;34m(\u001b[0m\u001b[0mi\u001b[0m\u001b[0;34m)\u001b[0m\u001b[0;34m\u001b[0m\u001b[0;34m\u001b[0m\u001b[0m\n\u001b[1;32m      8\u001b[0m     \u001b[0msequence\u001b[0m \u001b[0;34m=\u001b[0m \u001b[0mrats\u001b[0m\u001b[0;34m[\u001b[0m\u001b[0;36m0\u001b[0m\u001b[0;34m:\u001b[0m\u001b[0mlengths\u001b[0m\u001b[0;34m[\u001b[0m\u001b[0mi\u001b[0m\u001b[0;34m]\u001b[0m\u001b[0;34m,\u001b[0m \u001b[0mdims\u001b[0m\u001b[0;34m]\u001b[0m\u001b[0;34m\u001b[0m\u001b[0;34m\u001b[0m\u001b[0m\n\u001b[0;32m----> 9\u001b[0;31m     \u001b[0mprob_vector\u001b[0m \u001b[0;34m=\u001b[0m \u001b[0mprobability\u001b[0m\u001b[0;34m(\u001b[0m\u001b[0msequence\u001b[0m\u001b[0;34m)\u001b[0m\u001b[0;34m\u001b[0m\u001b[0;34m\u001b[0m\u001b[0m\n\u001b[0m\u001b[1;32m     10\u001b[0m     \u001b[0;32mif\u001b[0m \u001b[0mi\u001b[0m \u001b[0;34m==\u001b[0m \u001b[0;36m0\u001b[0m\u001b[0;34m:\u001b[0m\u001b[0;34m\u001b[0m\u001b[0;34m\u001b[0m\u001b[0m\n\u001b[1;32m     11\u001b[0m         \u001b[0mprobs\u001b[0m \u001b[0;34m=\u001b[0m \u001b[0msequence\u001b[0m\u001b[0;34m\u001b[0m\u001b[0;34m\u001b[0m\u001b[0m\n",
      "\u001b[0;32m<ipython-input-3-46c55e9352e7>\u001b[0m in \u001b[0;36mprobability\u001b[0;34m(sequence, decimals)\u001b[0m\n\u001b[1;32m     22\u001b[0m             \u001b[0mt0\u001b[0m \u001b[0;34m=\u001b[0m \u001b[0mtime\u001b[0m\u001b[0;34m.\u001b[0m\u001b[0mtime\u001b[0m\u001b[0;34m(\u001b[0m\u001b[0;34m)\u001b[0m\u001b[0;34m\u001b[0m\u001b[0;34m\u001b[0m\u001b[0m\n\u001b[1;32m     23\u001b[0m         \u001b[0;31m# if row.tolist() not in already_seen.tolist():\u001b[0m\u001b[0;34m\u001b[0m\u001b[0;34m\u001b[0m\u001b[0;34m\u001b[0m\u001b[0m\n\u001b[0;32m---> 24\u001b[0;31m         \u001b[0moccurrences\u001b[0m \u001b[0;34m=\u001b[0m \u001b[0mnp\u001b[0m\u001b[0;34m.\u001b[0m\u001b[0mcount_nonzero\u001b[0m\u001b[0;34m(\u001b[0m\u001b[0msequence\u001b[0m\u001b[0;34m==\u001b[0m\u001b[0mrow\u001b[0m\u001b[0;34m)\u001b[0m\u001b[0;34m\u001b[0m\u001b[0;34m\u001b[0m\u001b[0m\n\u001b[0m\u001b[1;32m     25\u001b[0m         \u001b[0;31m# already_seen[idx_, :] = row\u001b[0m\u001b[0;34m\u001b[0m\u001b[0;34m\u001b[0m\u001b[0;34m\u001b[0m\u001b[0m\n\u001b[1;32m     26\u001b[0m         \u001b[0;31m# idx_ += 1\u001b[0m\u001b[0;34m\u001b[0m\u001b[0;34m\u001b[0m\u001b[0;34m\u001b[0m\u001b[0m\n",
      "\u001b[0;32m<__array_function__ internals>\u001b[0m in \u001b[0;36mcount_nonzero\u001b[0;34m(*args, **kwargs)\u001b[0m\n",
      "\u001b[0;32m~/anaconda3/envs/prj_env_conda/lib/python3.7/site-packages/numpy/core/numeric.py\u001b[0m in \u001b[0;36mcount_nonzero\u001b[0;34m(a, axis, keepdims)\u001b[0m\n\u001b[1;32m    450\u001b[0m     \"\"\"\n\u001b[1;32m    451\u001b[0m     \u001b[0;32mif\u001b[0m \u001b[0maxis\u001b[0m \u001b[0;32mis\u001b[0m \u001b[0;32mNone\u001b[0m \u001b[0;32mand\u001b[0m \u001b[0;32mnot\u001b[0m \u001b[0mkeepdims\u001b[0m\u001b[0;34m:\u001b[0m\u001b[0;34m\u001b[0m\u001b[0;34m\u001b[0m\u001b[0m\n\u001b[0;32m--> 452\u001b[0;31m         \u001b[0;32mreturn\u001b[0m \u001b[0mmultiarray\u001b[0m\u001b[0;34m.\u001b[0m\u001b[0mcount_nonzero\u001b[0m\u001b[0;34m(\u001b[0m\u001b[0ma\u001b[0m\u001b[0;34m)\u001b[0m\u001b[0;34m\u001b[0m\u001b[0;34m\u001b[0m\u001b[0m\n\u001b[0m\u001b[1;32m    453\u001b[0m \u001b[0;34m\u001b[0m\u001b[0m\n\u001b[1;32m    454\u001b[0m     \u001b[0ma\u001b[0m \u001b[0;34m=\u001b[0m \u001b[0masanyarray\u001b[0m\u001b[0;34m(\u001b[0m\u001b[0ma\u001b[0m\u001b[0;34m)\u001b[0m\u001b[0;34m\u001b[0m\u001b[0;34m\u001b[0m\u001b[0m\n",
      "\u001b[0;31mKeyboardInterrupt\u001b[0m: "
     ]
    }
   ],
   "source": [
    "trajectories = os.listdir(path)\n",
    "n_rats = len(trajectories)\n",
    "\n",
    "dims = np.arange(3)\n",
    "print(\"CALCULATING PROBABILITY VECTORS\")\n",
    "for i in range(n_rats):\n",
    "    print(i)\n",
    "    sequence = rats[0:lengths[i], dims]\n",
    "    prob_vector = probability(sequence)\n",
    "    if i == 0:\n",
    "        probs = sequence\n",
    "    else:\n",
    "        probs = np.concatenate((probs, sequence), axis=1)\n",
    "\n",
    "print(\"CALCULATING K-S MATRIX\")\n",
    "# \"ks_matrix\" is symmetric (A=A')\n",
    "ks_matrix = np.zeros((len(trajectories), len(trajectories)))\n",
    "significance_level = 0.05\n",
    "for ii in range(n_rats):\n",
    "    for jj in range(n_rats):\n",
    "        _, p_value = stats.ks_2samp(probs[:, ii], probs[:, jj])\n",
    "        if p_value<significance_level:\n",
    "            ks_matrix[ii, jj] = 0\n",
    "        elif p_value>=significance_level:\n",
    "            ks_matrix[ii, jj] = 1\n",
    "            \n",
    "print(trajectories)\n",
    "print(ks_matrix)"
   ]
  },
  {
   "cell_type": "code",
   "execution_count": null,
   "metadata": {},
   "outputs": [],
   "source": []
  }
 ],
 "metadata": {
  "kernelspec": {
   "display_name": "Python [conda env:prj_env_conda]",
   "language": "python",
   "name": "conda-env-prj_env_conda-py"
  },
  "language_info": {
   "codemirror_mode": {
    "name": "ipython",
    "version": 3
   },
   "file_extension": ".py",
   "mimetype": "text/x-python",
   "name": "python",
   "nbconvert_exporter": "python",
   "pygments_lexer": "ipython3",
   "version": "3.7.10"
  }
 },
 "nbformat": 4,
 "nbformat_minor": 2
}
