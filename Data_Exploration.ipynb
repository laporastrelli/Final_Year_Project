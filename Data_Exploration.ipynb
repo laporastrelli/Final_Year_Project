{
 "cells": [
  {
   "cell_type": "markdown",
   "metadata": {},
   "source": [
    "## Imports"
   ]
  },
  {
   "cell_type": "code",
   "execution_count": 1,
   "metadata": {},
   "outputs": [],
   "source": [
    "import numpy as np\n",
    "import matplotlib.pyplot as plt\n",
    "import os\n",
    "import scipy.io\n",
    "import itertools as it\n",
    "import scipy.special as psi\n",
    "plt.style.use('classic')\n",
    "import seaborn as sns\n",
    "import pandas as pd\n",
    "import time \n",
    "\n",
    "from scipy.io import loadmat\n",
    "from scipy import stats\n",
    "from numpy.random import seed\n",
    "from numpy.random import rand\n",
    "from scipy.integrate import quad\n",
    "from scipy.io import savemat\n",
    "from tempfile import TemporaryFile\n",
    "from scipy.io import loadmat\n",
    "from sklearn.decomposition import PCA\n",
    "from sklearn.manifold import MDS\n",
    "from sklearn.decomposition import KernelPCA\n",
    "from mpl_toolkits import mplot3d\n",
    "from mPE_fn import mPE\n",
    "from scipy.spatial import distance\n",
    "from scipy.stats import entropy"
   ]
  },
  {
   "cell_type": "markdown",
   "metadata": {},
   "source": [
    "## Load and Clean Data"
   ]
  },
  {
   "cell_type": "code",
   "execution_count": 2,
   "metadata": {},
   "outputs": [
    {
     "name": "stdout",
     "output_type": "stream",
     "text": [
      "traj_5\n",
      "traj_3\n",
      "traj_4\n",
      "traj_1\n",
      "(432000, 57)\n"
     ]
    }
   ],
   "source": [
    "# loading entire high-dimensional trajectory\n",
    "path = '/rds/general/user/lr4617/home/4th_Year_Project/CAPTURE_rat_multidimensional/raw_data/normal/'\n",
    "trajectories = os.listdir(path)\n",
    "\n",
    "s = 1\n",
    "\n",
    "lengths = []\n",
    "nan_cols = [12,13,14]\n",
    "for n, traj_n in enumerate(trajectories):\n",
    "    if traj_n != \"traj_2\":\n",
    "        print(traj_n)\n",
    "        path_n = path + traj_n + '/trajectories/'\n",
    "        trajs = os.listdir(path_n)\n",
    "        trajectory = loadmat(path_n + trajs[0])\n",
    "        trajectory = trajectory['trajectory']\n",
    "        # removing invalid values (e.g. NaN)\n",
    "        # input data is already normalized (z-score) but needs to get rid of non-valued datapoints\n",
    "        # all_trajectories = np.zeros((trajectory.shape[0]*int(len(trajs)), trajectory.shape[1]-3))\n",
    "        all_trajectories = np.zeros((trajectory.shape[0]*s, trajectory.shape[1]-3))\n",
    "        for i, time_bin in enumerate(trajs):\n",
    "            if i < s:\n",
    "                trajectory = loadmat(path_n + time_bin)\n",
    "                trajectory = trajectory['trajectory'] \n",
    "                trajectory = np.delete(trajectory, nan_cols, 1)\n",
    "                idx_2 = i*trajectory.shape[0]\n",
    "                all_trajectories[idx_2:idx_2+trajectory.shape[0], 0:trajectory.shape[1]] = trajectory\n",
    "\n",
    "        lengths.append(all_trajectories.shape[0])\n",
    "\n",
    "        if n==0:\n",
    "            rats = all_trajectories\n",
    "        if n>0:\n",
    "            rats = np.concatenate((rats, all_trajectories), axis=0)\n",
    "\n",
    "print(rats.shape)"
   ]
  },
  {
   "cell_type": "markdown",
   "metadata": {},
   "source": [
    "## K-S Test same dimensions"
   ]
  },
  {
   "cell_type": "code",
   "execution_count": 3,
   "metadata": {},
   "outputs": [],
   "source": [
    "def probability(sequence, decimals=1):\n",
    "    '''\n",
    "    input: \n",
    "        - 1D sequence of rv observations-\n",
    "    return: \n",
    "        - probability vector\n",
    "    '''\n",
    "    \n",
    "    if sequence.shape[0] < sequence.shape[1]:\n",
    "        sequence = np.transpose(sequence)\n",
    "    \n",
    "    # round input sequence to avoid sparse probability vector\n",
    "    sequence = np.round(sequence, decimals)\n",
    "    unique = np.unique(sequence, axis=0)\n",
    "    n_triplets = len(unique)\n",
    "    \n",
    "    # fill probability vector\n",
    "    prob_vector = np.zeros((n_triplets, 1))\n",
    "    for row in sequence:\n",
    "        occurrences = len(np.where(np.all(np.isclose(sequence, row), axis=1))[0])\n",
    "        idx = np.where(np.all(np.isclose(unique, row), axis=1))\n",
    "        if prob_vector[idx[0]] == 0:\n",
    "            prob_vector[idx[0]] = occurrences/(sequence.shape[0])\n",
    "    return prob_vector"
   ]
  },
  {
   "cell_type": "code",
   "execution_count": 9,
   "metadata": {},
   "outputs": [
    {
     "name": "stdout",
     "output_type": "stream",
     "text": [
      "CALCULATING PROBABILITY VECTORS\n",
      "CALCULATING K-S MATRIX\n",
      "['traj_5', 'traj_3', 'traj_4', 'traj_2', 'traj_1']\n",
      "[[1. 1. 1. 1.]\n",
      " [1. 1. 1. 1.]\n",
      " [1. 1. 1. 1.]\n",
      " [1. 1. 1. 1.]]\n"
     ]
    }
   ],
   "source": [
    "trajectories = os.listdir(path)\n",
    "n_rats = len(trajectories)\n",
    "\n",
    "dims = np.arange(12,15)\n",
    "print(\"CALCULATING PROBABILITY VECTORS\")\n",
    "for i in range(n_rats-1):\n",
    "    #print(lengths[i])\n",
    "    sequence = rats[0:lengths[i], dims]\n",
    "    prob_vector = probability(sequence)\n",
    "    if i == 0:\n",
    "        probs = prob_vector\n",
    "    else:\n",
    "        probs = np.concatenate((probs, prob_vector), axis=1)\n",
    "\n",
    "print(\"CALCULATING K-S MATRIX\")\n",
    "# \"ks_matrix\" is symmetric (A=A')\n",
    "ks_matrix = np.zeros((len(trajectories)-1, len(trajectories)-1))\n",
    "significance_level = 0.01\n",
    "for ii in range(n_rats-1):\n",
    "    for jj in range(n_rats-1):\n",
    "        _, p_value = stats.ks_2samp(probs[:, ii], probs[:, jj])\n",
    "        if p_value<significance_level:\n",
    "            ks_matrix[ii, jj] = 0\n",
    "        elif p_value>=significance_level:\n",
    "            ks_matrix[ii, jj] = 1\n",
    "            \n",
    "print(trajectories)\n",
    "print(ks_matrix)"
   ]
  },
  {
   "cell_type": "code",
   "execution_count": null,
   "metadata": {},
   "outputs": [
    {
     "name": "stdout",
     "output_type": "stream",
     "text": [
      "[ 1  5  9 13 17 21 25 29 33 37 41 45 49]\n"
     ]
    }
   ],
   "source": [
    "print(np.arange(1,50, 4))"
   ]
  },
  {
   "cell_type": "code",
   "execution_count": null,
   "metadata": {},
   "outputs": [],
   "source": []
  }
 ],
 "metadata": {
  "kernelspec": {
   "display_name": "Python [conda env:prj_env_conda]",
   "language": "python",
   "name": "conda-env-prj_env_conda-py"
  },
  "language_info": {
   "codemirror_mode": {
    "name": "ipython",
    "version": 3
   },
   "file_extension": ".py",
   "mimetype": "text/x-python",
   "name": "python",
   "nbconvert_exporter": "python",
   "pygments_lexer": "ipython3",
   "version": "3.7.10"
  }
 },
 "nbformat": 4,
 "nbformat_minor": 2
}
