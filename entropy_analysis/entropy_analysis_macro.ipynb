{
 "cells": [
  {
   "cell_type": "markdown",
   "metadata": {},
   "source": [
    "## Imports"
   ]
  },
  {
   "cell_type": "code",
   "execution_count": 6,
   "metadata": {},
   "outputs": [],
   "source": [
    "import numpy as np\n",
    "import matplotlib.pyplot as plt\n",
    "import os\n",
    "import scipy.io\n",
    "import itertools as it\n",
    "import scipy.special as psi\n",
    "plt.style.use('classic')\n",
    "import seaborn as sns\n",
    "import pandas as pd\n",
    "import math as mt\n",
    "import time\n",
    "import sys\n",
    "\n",
    "sys.path.insert(1, '/rds/general/user/lr4617/home/4th_Year_Project/Final_Year_Project/')\n",
    "\n",
    "from scipy.io import loadmat\n",
    "from scipy import stats\n",
    "from numpy.random import seed\n",
    "from numpy.random import rand\n",
    "from scipy.integrate import quad\n",
    "from scipy.io import savemat\n",
    "from tempfile import TemporaryFile\n",
    "from scipy.io import loadmat\n",
    "from sklearn.decomposition import PCA\n",
    "from sklearn.manifold import MDS\n",
    "from sklearn.decomposition import KernelPCA\n",
    "from mpl_toolkits import mplot3d\n",
    "from mPE_fn import mPE_\n",
    "from scipy.spatial import distance\n",
    "from scipy.stats import entropy\n",
    "from mPE_ultis import integrand, ubble, array_list, permutation\n",
    "from sklearn.cluster import KMeans\n"
   ]
  },
  {
   "cell_type": "code",
   "execution_count": 39,
   "metadata": {},
   "outputs": [],
   "source": [
    "##################################### CHANGE TRAJECTORY NUMBER HERE #####################################\n",
    "traj_n = 7\n",
    "#########################################################################################################\n",
    "\n",
    "##################################### CHANGE TRAJECTORY MODE HERE #######################################\n",
    "mode = 'drug'\n",
    "#########################################################################################################\n"
   ]
  },
  {
   "cell_type": "markdown",
   "metadata": {},
   "source": [
    "## Load and Clean Data - V1"
   ]
  },
  {
   "cell_type": "code",
   "execution_count": 40,
   "metadata": {},
   "outputs": [
    {
     "name": "stdout",
     "output_type": "stream",
     "text": [
      "Data points in sub-sampled trajectory:  (167400, 60)\n",
      "Data points in standard trajectory:  (3348000, 60)\n"
     ]
    }
   ],
   "source": [
    "# load entire high-dimensional trajectory\n",
    "path = '/rds/general/user/lr4617/home/4th_Year_Project/CAPTURE_rat_multidimensional/raw_data/' + str(mode) + '/traj_' + str(traj_n) + '/trajectories_na/'\n",
    "trajectories = os.listdir(path)\n",
    "\n",
    "# removing NaN columns\n",
    "nan_cols = []\n",
    "for i, time_bin in enumerate(trajectories):\n",
    "    if time_bin != 'behavs':\n",
    "        trajectory = loadmat(path + time_bin)\n",
    "        trajectory = trajectory['trajectory'] \n",
    "        for i in range(trajectory.shape[1]):\n",
    "            if np.isnan(trajectory[:, i]).all():\n",
    "                nan_cols.append(i)\n",
    "\n",
    "sampling_factor = 20\n",
    "nan_cols = np.asarray(nan_cols)\n",
    "a = 0\n",
    "\n",
    "if nan_cols.size > 0:\n",
    "    if len(np.where(nan_cols==nan_cols[0])[0])*3 == len(nan_cols):\n",
    "        sampled_trajectories = np.zeros( (int((trajectory.shape[0]*len(trajectories))/sampling_factor), trajectory.shape[1]-len(nan_cols)) )\n",
    "        all_trajectories = np.zeros((trajectory.shape[0]*int(len(trajectories)), trajectory.shape[1]-len(nan_cols)))\n",
    "else:\n",
    "    sampled_trajectories = np.zeros( (int((trajectory.shape[0]*len(trajectories))/sampling_factor), trajectory.shape[1]) )\n",
    "    all_trajectories = np.zeros((trajectory.shape[0]*int(len(trajectories)), trajectory.shape[1]))\n",
    "\n",
    "for i, time_bin in enumerate(trajectories):\n",
    "    if time_bin != 'behavs':\n",
    "        trajectory = loadmat(path + time_bin)\n",
    "        trajectory = trajectory['trajectory'] \n",
    "        if nan_cols.size > 0:\n",
    "            trajectory = np.delete(trajectory, nan_cols, 1)\n",
    "            \n",
    "        sampled_idxs = np.round(np.arange(0, trajectory.shape[0], sampling_factor)).astype(int)\n",
    "        sampled_traj = trajectory[sampled_idxs]\n",
    "        \n",
    "        idx = i*sampled_traj.shape[0]\n",
    "        idx_2 = i*trajectory.shape[0]\n",
    "                \n",
    "        sampled_trajectories[idx:idx+sampled_traj.shape[0], 0:sampled_trajectories.shape[1]] = sampled_traj\n",
    "        all_trajectories[idx_2:idx_2+trajectory.shape[0], 0:all_trajectories.shape[1]] = trajectory\n",
    "            # convert nan to number when not it is a sparse recurrence (not an entire column)\n",
    "sampled_trajectories = np.nan_to_num(sampled_trajectories)\n",
    "all_trajectories = np.nan_to_num(all_trajectories)\n",
    "\n",
    "print('Data points in sub-sampled trajectory: ', sampled_trajectories.shape)\n",
    "print('Data points in standard trajectory: ', all_trajectories.shape)"
   ]
  },
  {
   "cell_type": "markdown",
   "metadata": {},
   "source": [
    "## Load and Clean Data - V2"
   ]
  },
  {
   "cell_type": "code",
   "execution_count": 41,
   "metadata": {},
   "outputs": [],
   "source": [
    "# load entire high-dimensional trajectory\n",
    "path = '/rds/general/user/lr4617/home/4th_Year_Project/CAPTURE_rat_multidimensional/raw_data/' + str(mode) + '/traj_' + str(traj_n) + '/trajectories_na/'\n",
    "trajectories = os.listdir(path)\n",
    "f_s = 300\n",
    "# removing NaN columns\n",
    "nan_cols = []\n",
    "for i, time_bin in enumerate(trajectories):\n",
    "    if time_bin != 'behavs':\n",
    "        trajectory = loadmat(path + time_bin)\n",
    "        trajectory = trajectory['trajectory'] \n",
    "        for i in range(trajectory.shape[1]):\n",
    "            if np.isnan(trajectory[:, i]).all():\n",
    "                nan_cols.append(i)"
   ]
  },
  {
   "cell_type": "markdown",
   "metadata": {},
   "source": [
    "### Helper function"
   ]
  },
  {
   "cell_type": "code",
   "execution_count": 42,
   "metadata": {},
   "outputs": [],
   "source": [
    "def rolling_mean(x, window, overlapping=True):\n",
    "    '''\n",
    "    input:\n",
    "        x      - input sequence\n",
    "        window - rolling window\n",
    "        \n",
    "    returns:\n",
    "        y      - moving averaged sequence\n",
    "    '''\n",
    "        \n",
    "    ## assuming that there are more observations than variables:\n",
    "    if np.max(x.shape)> x.shape[0]:\n",
    "        x=x.transpose()\n",
    "        \n",
    "    if overlapping:\n",
    "        y = np.zeros((x.shape))\n",
    "        for i in range(0, x.shape[0] - window):\n",
    "            y[i, :] = np.mean(x[i:i+window, :], axis=0)\n",
    "\n",
    "        y[x.shape[0]-window:x.shape[0]-1, :] = x[x.shape[0]-window:x.shape[0]-1, :]\n",
    "        \n",
    "    else:\n",
    "        y = np.zeros((int(x.shape[0]/window), x.shape[1]))\n",
    "        windows = np.arange(0, x.shape[0] - window, window)\n",
    "        for i, t in enumerate(windows):\n",
    "            y[i, :] = np.mean(x[t:t+window, :], axis=0)\n",
    "    \n",
    "    return y"
   ]
  },
  {
   "cell_type": "code",
   "execution_count": 43,
   "metadata": {},
   "outputs": [
    {
     "name": "stdout",
     "output_type": "stream",
     "text": [
      "Data points in standard trajectory:  (66960, 60)\n"
     ]
    }
   ],
   "source": [
    "nan_cols = np.asarray(nan_cols)\n",
    "a = 0\n",
    "sub_sampling = 50\n",
    "if nan_cols.size > 0:\n",
    "    if len(np.where(nan_cols==nan_cols[0])[0])*3 == len(nan_cols):\n",
    "        sampled_trajectories = np.zeros( (int((trajectory.shape[0]*len(trajectories))/sub_sampling), trajectory.shape[1]-len(nan_cols)) )\n",
    "else:\n",
    "    sampled_trajectories = np.zeros( (int((trajectory.shape[0]*len(trajectories))/sub_sampling), trajectory.shape[1]) )\n",
    "\n",
    "for i, time_bin in enumerate(trajectories):\n",
    "    if time_bin != 'behavs':\n",
    "        trajectory = loadmat(path + time_bin)\n",
    "        trajectory = trajectory['trajectory'] \n",
    "        if nan_cols.size > 0:\n",
    "            trajectory = np.delete(trajectory, nan_cols, 1)\n",
    "        \n",
    "        window = sub_sampling\n",
    "        mov_av_traj = rolling_mean(trajectory, window, overlapping=False)\n",
    "        idx_2 = i*mov_av_traj.shape[0]\n",
    "        sampled_trajectories[idx_2:idx_2+mov_av_traj.shape[0], 0:sampled_trajectories.shape[1]] = mov_av_traj\n",
    "        \n",
    "# convert nan to number when not it is a sparse recurrence (not an entire column)\n",
    "sampled_trajectories = np.nan_to_num(sampled_trajectories)\n",
    "print('Data points in standard trajectory: ', sampled_trajectories.shape)"
   ]
  },
  {
   "cell_type": "markdown",
   "metadata": {},
   "source": [
    "## Dimensionality Reduction: PCA"
   ]
  },
  {
   "cell_type": "code",
   "execution_count": 44,
   "metadata": {},
   "outputs": [
    {
     "name": "stdout",
     "output_type": "stream",
     "text": [
      "0.9088722466313366\n"
     ]
    },
    {
     "data": {
      "image/png": "[encoded data removed]",
      "text/plain": [
       "<Figure size 640x480 with 1 Axes>"
      ]
     },
     "metadata": {},
     "output_type": "display_data"
    }
   ],
   "source": [
    "# inspecting inter-dimensional variance with PCA\n",
    "pca = PCA()\n",
    "pca.fit(sampled_trajectories)\n",
    "\n",
    "explained_var_plot = [np.sum(pca.explained_variance_ratio_[0:i+1]) for i in range(len(pca.explained_variance_ratio_))]\n",
    "plt.scatter(np.arange(sampled_trajectories.shape[1]), explained_var_plot)\n",
    "print(sum(pca.explained_variance_ratio_[0:3]))\n",
    "plt.ylabel('Cumulative Expalined Variance')\n",
    "plt.xlabel('Dimension')\n",
    "path_out = '/rds/general/user/lr4617/home/4th_Year_Project/Final_Report/entropy_analysis/mPE_vs_time/control/'\n",
    "name_out = mode + '_explained_var_' + 'traj_' + str(traj_n)\n",
    "plt.savefig(path_out +  name_out  + \".png\")\n",
    "plt.show()\n",
    "\n",
    "# reduce data according to explained variance values using linear PCA\n",
    "pca = PCA(n_components=3)\n",
    "reduced_traj = pca.fit_transform(sampled_trajectories)"
   ]
  },
  {
   "cell_type": "markdown",
   "metadata": {},
   "source": [
    "## mPE analysis"
   ]
  },
  {
   "cell_type": "markdown",
   "metadata": {},
   "source": [
    "### Helper functions"
   ]
  },
  {
   "cell_type": "code",
   "execution_count": 45,
   "metadata": {},
   "outputs": [],
   "source": [
    "def get_mPE_matrix(reduced_traj, bins_number, traj_number, orders=[3], random=False):\n",
    "    mPE_vector = np.zeros((bins_number, traj_number, len(orders)))\n",
    "    traj_length = int((reduced_traj.shape[0]/bins_number)/traj_number)\n",
    "    \n",
    "    for a, order in enumerate(orders):\n",
    "        \n",
    "        for i in range(bins_number):\n",
    "            idx = 0\n",
    "            \n",
    "            for j in range(0, traj_length*traj_number, traj_length):\n",
    "                \n",
    "                if random:\n",
    "                    idx_1 = np.random.randint(np.max(reduced_traj.shape) - traj_length)\n",
    "                    traj = reduced_traj[idx_1: idx_1 + traj_length]\n",
    "                else:\n",
    "                    idx_1 = i*traj_number*traj_length \n",
    "                    traj = reduced_traj[idx_1 + j: idx_1 + j + traj_length]\n",
    "                    \n",
    "                if traj.shape[0]>0:\n",
    "                    [HH, _]=mPE_(traj, order)\n",
    "                    mPE_vector[i, idx, a] = HH\n",
    "                    \n",
    "                idx +=1\n",
    "                \n",
    "    return mPE_vector"
   ]
  },
  {
   "cell_type": "code",
   "execution_count": 46,
   "metadata": {},
   "outputs": [],
   "source": [
    "def probability_v2(sequence, centroids):\n",
    "    '''\n",
    "    input: \n",
    "        - 1D sequence of rv observations\n",
    "        - centroids (based on k-means clustering)\n",
    "    return: \n",
    "        - probability vector\n",
    "    '''\n",
    "    sequence = np.asarray(sequence)\n",
    "    \n",
    "    if len(sequence.shape) > 1 and (sequence.shape[0] > sequence.shape[1]):\n",
    "        sequence = np.transpose(sequence)\n",
    "        \n",
    "    if centroids.shape[0] > centroids.shape[1]:\n",
    "        centroids = centroids.transpose()\n",
    "    \n",
    "    n_unique = centroids.shape[1]\n",
    "    prob_vector = np.zeros((1, n_unique))\n",
    "\n",
    "    for elem in sequence:\n",
    "        elem_vector = elem*np.ones((n_unique, ))\n",
    "        diff = np.absolute(elem_vector - centroids)\n",
    "        idx = np.where(diff[0]==np.min(diff))[0]\n",
    "        prob_vector[:, idx] += 1\n",
    "        \n",
    "    prob_vector = prob_vector/(sequence.shape[0])\n",
    "            \n",
    "    return prob_vector[0]"
   ]
  },
  {
   "cell_type": "markdown",
   "metadata": {},
   "source": [
    "### Control analysis"
   ]
  },
  {
   "cell_type": "code",
   "execution_count": 47,
   "metadata": {},
   "outputs": [
    {
     "name": "stdout",
     "output_type": "stream",
     "text": [
      "66960 2 22\n"
     ]
    }
   ],
   "source": [
    "# Take random trajectories and check that they have approximately the same mPE\n",
    "unit_length = 1500\n",
    "minutes = 60\n",
    "sub_fs = int(300/60)\n",
    "bin_length = sub_fs*60*minutes\n",
    "bins_number = 2\n",
    "traj_number = int(reduced_traj.shape[0]/2/unit_length)\n",
    "orders = [3]\n",
    "random = True\n",
    "\n",
    "print(reduced_traj.shape[0], bins_number, traj_number)\n",
    "mPE_vector = get_mPE_matrix(reduced_traj, bins_number, traj_number, orders, random)"
   ]
  },
  {
   "cell_type": "code",
   "execution_count": 48,
   "metadata": {},
   "outputs": [
    {
     "data": {
      "image/png": "[encoded data removed]",
      "text/plain": [
       "<Figure size 640x480 with 1 Axes>"
      ]
     },
     "metadata": {},
     "output_type": "display_data"
    }
   ],
   "source": [
    "# plotting mpE of the first bin \n",
    "order_n = 0\n",
    "fig = plt.figure()\n",
    "c = ['r', 'b']\n",
    "# plotting mPE continuous distribution as a function of time \n",
    "\n",
    "ax = sns.kdeplot(mPE_vector[0, :, order_n], color=c[0])\n",
    "ax = sns.kdeplot(mPE_vector[1,:, order_n], color=c[1])\n",
    "\n",
    "plt.grid(axis='y', alpha=0.75)\n",
    "plt.xlabel('Order 3 mPE (bits)')\n",
    "plt.ylabel('Estimated Density Function')\n",
    "path_out = '/rds/general/user/lr4617/home/4th_Year_Project/Final_Report/entropy_analysis/mPE_vs_time/control/'\n",
    "name_out = mode + '_control_' + 'traj_' + str(traj_n)\n",
    "plt.savefig(path_out +  name_out  + \".png\")"
   ]
  },
  {
   "cell_type": "code",
   "execution_count": 49,
   "metadata": {},
   "outputs": [
    {
     "name": "stdout",
     "output_type": "stream",
     "text": [
      "same distribution\n",
      "p-value:  0.21836842129025597\n",
      "j-s:  [0.]\n"
     ]
    }
   ],
   "source": [
    "## Retrieve maxiumum number of elements based on a raw decimal discretization\n",
    "truncation_decimal = 4\n",
    "min_ = float('inf')\n",
    "max_ = float('-inf')\n",
    "for order in range(mPE_vector.shape[2]):\n",
    "    for bin_ in range(mPE_vector.shape[0]):\n",
    "        for traj in range(mPE_vector.shape[1]):\n",
    "            if mPE_vector[bin_, traj, order] > max_:\n",
    "                max_ = mPE_vector[bin_, traj, order]\n",
    "            elif mPE_vector[bin_, traj, order] < min_:\n",
    "                min_ = mPE_vector[bin_, traj, order]\n",
    "\n",
    "min_ = (round(min_ * 10**(truncation_decimal)))/(10**truncation_decimal)\n",
    "max_ = (round(max_ * 10**(truncation_decimal)))/(10**truncation_decimal)\n",
    "max_size = int((max_ - min_)/(1/(10**truncation_decimal)))\n",
    "\n",
    "## Get probability vectors\n",
    "prob1 = probability(mPE_vector[0, :, 0], truncation_decimal, max_size)\n",
    "prob2 = probability(mPE_vector[1, :, 0], truncation_decimal, max_size)\n",
    "\n",
    "## Evaluation    \n",
    "significance_lev = 0.01\n",
    "js_distance = distance.jensenshannon(prob1, prob2)\n",
    "[_, p_value] = stats.ks_2samp(mPE_vector[0, :, 0], mPE_vector[1, :, 0])\n",
    "if p_value >= significance_lev:\n",
    "    print(\"same distribution\")\n",
    "else:\n",
    "    print(\"different distribution\")\n",
    "\n",
    "print('p-value: ', p_value)\n",
    "print('j-s: ', js_distance)"
   ]
  },
  {
   "cell_type": "markdown",
   "metadata": {},
   "source": [
    "### Entropy analysis"
   ]
  },
  {
   "cell_type": "code",
   "execution_count": 50,
   "metadata": {},
   "outputs": [
    {
     "name": "stdout",
     "output_type": "stream",
     "text": [
      "66960 2 33\n"
     ]
    }
   ],
   "source": [
    "# Entropy Calculation:\n",
    "# - Divide entire trajetcory in 'bins_number' bins\n",
    "# - Divide each bin for 'traj_number' trajectories\n",
    "# - Calculate mPE for each of these trajectories and compute the distribution\n",
    "\n",
    "unit_length = 1000\n",
    "sub_fs = int(300/60)\n",
    "bins_number = 2\n",
    "traj_number = int(reduced_traj.shape[0]/2/unit_length)\n",
    "orders = [3]\n",
    "\n",
    "print(reduced_traj.shape[0], bins_number, traj_number)\n",
    "mPE_vector = get_mPE_matrix(reduced_traj, bins_number, traj_number, orders)"
   ]
  },
  {
   "cell_type": "code",
   "execution_count": 51,
   "metadata": {},
   "outputs": [
    {
     "name": "stderr",
     "output_type": "stream",
     "text": [
      "/rds/general/user/lr4617/home/anaconda3/envs/prj_env_conda/lib/python3.7/site-packages/ipykernel_launcher.py:8: UserWarning: The handle 'h' has a label of '_' which cannot be automatically added to the legend.\n",
      "  \n",
      "/rds/general/user/lr4617/home/anaconda3/envs/prj_env_conda/lib/python3.7/site-packages/ipykernel_launcher.py:8: UserWarning: Legend does not support 'f' instances.\n",
      "A proxy artist may be used instead.\n",
      "See: https://matplotlib.org/users/legend_guide.html#creating-artists-specifically-for-adding-to-the-legend-aka-proxy-artists\n",
      "  \n",
      "/rds/general/user/lr4617/home/anaconda3/envs/prj_env_conda/lib/python3.7/site-packages/ipykernel_launcher.py:8: UserWarning: Legend does not support 'i' instances.\n",
      "A proxy artist may be used instead.\n",
      "See: https://matplotlib.org/users/legend_guide.html#creating-artists-specifically-for-adding-to-the-legend-aka-proxy-artists\n",
      "  \n",
      "/rds/general/user/lr4617/home/anaconda3/envs/prj_env_conda/lib/python3.7/site-packages/ipykernel_launcher.py:8: UserWarning: Legend does not support 'r' instances.\n",
      "A proxy artist may be used instead.\n",
      "See: https://matplotlib.org/users/legend_guide.html#creating-artists-specifically-for-adding-to-the-legend-aka-proxy-artists\n",
      "  \n",
      "/rds/general/user/lr4617/home/anaconda3/envs/prj_env_conda/lib/python3.7/site-packages/ipykernel_launcher.py:8: UserWarning: Legend does not support 's' instances.\n",
      "A proxy artist may be used instead.\n",
      "See: https://matplotlib.org/users/legend_guide.html#creating-artists-specifically-for-adding-to-the-legend-aka-proxy-artists\n",
      "  \n",
      "/rds/general/user/lr4617/home/anaconda3/envs/prj_env_conda/lib/python3.7/site-packages/ipykernel_launcher.py:8: UserWarning: Legend does not support 't' instances.\n",
      "A proxy artist may be used instead.\n",
      "See: https://matplotlib.org/users/legend_guide.html#creating-artists-specifically-for-adding-to-the-legend-aka-proxy-artists\n",
      "  \n",
      "/rds/general/user/lr4617/home/anaconda3/envs/prj_env_conda/lib/python3.7/site-packages/ipykernel_launcher.py:8: UserWarning: Legend does not support '_' instances.\n",
      "A proxy artist may be used instead.\n",
      "See: https://matplotlib.org/users/legend_guide.html#creating-artists-specifically-for-adding-to-the-legend-aka-proxy-artists\n",
      "  \n",
      "/rds/general/user/lr4617/home/anaconda3/envs/prj_env_conda/lib/python3.7/site-packages/ipykernel_launcher.py:8: UserWarning: Legend does not support 'a' instances.\n",
      "A proxy artist may be used instead.\n",
      "See: https://matplotlib.org/users/legend_guide.html#creating-artists-specifically-for-adding-to-the-legend-aka-proxy-artists\n",
      "  \n",
      "/rds/general/user/lr4617/home/anaconda3/envs/prj_env_conda/lib/python3.7/site-packages/ipykernel_launcher.py:8: UserWarning: Legend does not support 'l' instances.\n",
      "A proxy artist may be used instead.\n",
      "See: https://matplotlib.org/users/legend_guide.html#creating-artists-specifically-for-adding-to-the-legend-aka-proxy-artists\n",
      "  \n"
     ]
    },
    {
     "data": {
      "image/png": "[encoded data removed]",
      "text/plain": [
       "<Figure size 640x480 with 1 Axes>"
      ]
     },
     "metadata": {},
     "output_type": "display_data"
    }
   ],
   "source": [
    "order_n = 0\n",
    "fig = plt.figure()\n",
    "c = ['r', 'b']\n",
    "# plotting mPE continuous distribution as a function of time \n",
    "for bin_n in range(bins_number):\n",
    "    ax = sns.kdeplot(mPE_vector[bin_n, :, order_n], color=c[bin_n])\n",
    "        \n",
    "plt.legend('first_half', 'second_half')\n",
    "plt.grid(axis='y', alpha=0.75)\n",
    "plt.xlabel('Order 3 mPE (bits)')\n",
    "plt.ylabel('Estimated Density Function')\n",
    "\n",
    "path_out = '/rds/general/user/lr4617/home/4th_Year_Project/Final_Report/entropy_analysis/mPE_vs_time/result/'\n",
    "name_out = mode + '_result_' + 'traj_' + str(traj_n)\n",
    "plt.savefig(path_out +  name_out  + \".png\")"
   ]
  },
  {
   "cell_type": "markdown",
   "metadata": {},
   "source": [
    "## Results Evaluation"
   ]
  },
  {
   "cell_type": "code",
   "execution_count": 52,
   "metadata": {},
   "outputs": [
    {
     "name": "stdout",
     "output_type": "stream",
     "text": [
      "[[[4.58335005e+00]\n",
      "  [5.12249392e+00]\n",
      "  [6.19212907e+00]\n",
      "  [6.03937889e+00]\n",
      "  [5.84369969e+00]\n",
      "  [5.91363818e+00]\n",
      "  [6.30590396e+00]\n",
      "  [4.42497723e+00]\n",
      "  [5.70377203e+00]\n",
      "  [6.37035543e+00]\n",
      "  [6.42957802e+00]\n",
      "  [6.32868810e+00]\n",
      "  [6.06265273e+00]\n",
      "  [5.98649108e+00]\n",
      "  [6.18293666e+00]\n",
      "  [6.47709223e+00]\n",
      "  [6.35528627e+00]\n",
      "  [5.50033732e+00]\n",
      "  [6.40230259e+00]\n",
      "  [6.28275310e+00]\n",
      "  [6.24920195e+00]\n",
      "  [5.53538935e+00]\n",
      "  [4.23801626e+00]\n",
      "  [5.33712231e+00]\n",
      "  [4.90054622e+00]\n",
      "  [5.62391856e+00]\n",
      "  [6.30582584e+00]\n",
      "  [6.24280746e+00]\n",
      "  [6.38835782e+00]\n",
      "  [6.36245308e+00]\n",
      "  [5.20475060e+00]\n",
      "  [5.32517327e+00]\n",
      "  [6.27127305e+00]]\n",
      "\n",
      " [[6.43789886e+00]\n",
      "  [6.35485669e+00]\n",
      "  [6.43700411e+00]\n",
      "  [6.20133046e+00]\n",
      "  [6.21212307e+00]\n",
      "  [6.06072793e+00]\n",
      "  [5.85162455e+00]\n",
      "  [6.33151174e+00]\n",
      "  [6.64879613e+00]\n",
      "  [6.50125030e+00]\n",
      "  [6.49483778e+00]\n",
      "  [6.34981313e+00]\n",
      "  [4.68006806e+00]\n",
      "  [4.68952326e+00]\n",
      "  [4.82065376e+00]\n",
      "  [5.56942981e+00]\n",
      "  [6.34541353e+00]\n",
      "  [6.27867356e+00]\n",
      "  [6.18712350e+00]\n",
      "  [4.25703714e+00]\n",
      "  [5.92626992e+00]\n",
      "  [6.70629267e+00]\n",
      "  [6.59207900e+00]\n",
      "  [6.39579090e+00]\n",
      "  [5.83956193e+00]\n",
      "  [4.79542237e+00]\n",
      "  [5.65038353e+00]\n",
      "  [6.51334329e+00]\n",
      "  [5.92537594e+00]\n",
      "  [5.81344315e+00]\n",
      "  [5.37628201e+00]\n",
      "  [2.13873450e-03]\n",
      "  [2.13873450e-03]]]\n",
      "same distribution\n",
      "0.45349473522704375\n",
      "0.07175273974188431\n"
     ]
    }
   ],
   "source": [
    "## Retrieve maxiumum number of elements based on a raw decimal discretization\n",
    "truncation_decimal = 3\n",
    "min_ = float('inf')\n",
    "max_ = float('-inf')\n",
    "for order in range(mPE_vector.shape[2]):\n",
    "    for bin_ in range(mPE_vector.shape[0]):\n",
    "        for traj in range(mPE_vector.shape[1]):\n",
    "            if mPE_vector[bin_, traj, order] > max_:\n",
    "                max_ = mPE_vector[bin_, traj, order]\n",
    "            elif mPE_vector[bin_, traj, order] < min_:\n",
    "                min_ = mPE_vector[bin_, traj, order]\n",
    "\n",
    "min_ = (round(min_ * 10**(truncation_decimal)))/(10**truncation_decimal)\n",
    "max_ = (round(max_ * 10**(truncation_decimal)))/(10**truncation_decimal)\n",
    "max_size = int((max_ - min_)/(1/(10**truncation_decimal)))\n",
    "print(mPE_vector)\n",
    "## Get probability vectors\n",
    "prob1 = probability(mPE_vector[0, :, 0], truncation_decimal, max_size)\n",
    "prob2 = probability(mPE_vector[1, :, 0], truncation_decimal, max_size)\n",
    "## Evaluation    \n",
    "significance_lev = 0.01\n",
    "js_distance = distance.jensenshannon(prob1, prob2)\n",
    "[stat, p_value] = stats.ks_2samp(mPE_vector[0, :, 0], mPE_vector[1, :, 0])\n",
    "if p_value >= significance_lev:\n",
    "    print(\"same distribution\")\n",
    "else:\n",
    "    print(\"different distribution\")\n",
    "\n",
    "print(p_value)\n",
    "print(js_distance[0])"
   ]
  },
  {
   "cell_type": "code",
   "execution_count": null,
   "metadata": {},
   "outputs": [],
   "source": []
  }
 ],
 "metadata": {
  "kernelspec": {
   "display_name": "Python [conda env:prj_env_conda]",
   "language": "python",
   "name": "conda-env-prj_env_conda-py"
  },
  "language_info": {
   "codemirror_mode": {
    "name": "ipython",
    "version": 3
   },
   "file_extension": ".py",
   "mimetype": "text/x-python",
   "name": "python",
   "nbconvert_exporter": "python",
   "pygments_lexer": "ipython3",
   "version": "3.7.10"
  }
 },
 "nbformat": 4,
 "nbformat_minor": 2
}
